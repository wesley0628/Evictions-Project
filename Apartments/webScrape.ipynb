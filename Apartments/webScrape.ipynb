{
 "cells": [
  {
   "cell_type": "code",
   "execution_count": 36,
   "id": "c8c60157",
   "metadata": {
    "scrolled": true
   },
   "outputs": [
    {
     "data": {
      "text/plain": [
       "[<div class=\"clearfix\">\n",
       " <div class=\"feature\">Michelle Drea, Esq.<br/>City Assessor</div>\n",
       " </div>,\n",
       " <div class=\"clearfix\">\n",
       " <h2>Owner(s)\n",
       " <p>\n",
       "         \t\n",
       "         \t\n",
       " \t\t\t\tMAYER, JO ANN \n",
       " \t\t\t\n",
       "         </p>\n",
       " <p>\n",
       " \t\t\t1719 BRITTANY PL <br/> MADISON, WI  53711\n",
       "         </p>\n",
       " </h2></div>,\n",
       " <div class=\"clearfix\">\n",
       " <span>Refuse Collection</span>\n",
       " <ul>\n",
       " <li>District: 06B</li>\n",
       " <li>\n",
       " <a href=\"http://www.cityofmadison.com/streets/documents/wedB.pdf\" target=\"_blank\">Schedule</a>\n",
       " </li>\n",
       " </ul>\n",
       " </div>,\n",
       " <div class=\"clearfix\">\n",
       " <h2>School Details</h2>\n",
       " <span>\n",
       "         \tDistrict: \n",
       " \t\t\t\n",
       " \t\t\t\t<a href=\"http://www.madison.k12.wi.us/\" target=\"_blank\">Madison</a>\n",
       " </span> <br/>\n",
       " <ul>\n",
       " <li>Falk</li>\n",
       " <li>Opt Toki/Jefferson</li>\n",
       " <li>Memorial</li>\n",
       " </ul>\n",
       " </div>,\n",
       " <div class=\"clearfix\">\n",
       " <h2>City Hall</h2>\n",
       " \t\t\n",
       " \t\t\n",
       " \t\tAldermanic District: 20 <br/>\n",
       " \t\tAld. Christian Albouras <br/>\n",
       " <ul>\n",
       " <li><a href=\"https://www.cityofmadison.com/clerk/my-elected-officials/elected-official.cfm?parcelN=070836304033\" target=\"_blank\">Who are my elected officials?</a></li>\n",
       " <li><a href=\"https://www.cityofmadison.com/clerk/where-do-i-vote/polling-location.cfm?ParcelN=070836304033\" target=\"_blank\">Where do I vote?</a></li>\n",
       " </ul>\n",
       " </div>,\n",
       " <div class=\"clearfix info-bar\">\n",
       " <a class=\"btn\" href=\"/assessor/property/generatepdf/parcel.cfm?ParcelN=070836304033&amp;Type=G\" target=\"_blank\">Print/Save PDF of Property Details</a>\n",
       " <a class=\"btn\" href=\"/assessor/property/generatepdf/parcel.cfm?ParcelN=070836304033\" target=\"_blank\">Print/Save PDF of All Parcel Information</a>\n",
       " <span class=\"pull-right\"><a class=\"btn\" href=\"/assessor/property/taxreceipt.cfm?ParcelN=070836304033\" target=\"_blank\">Print Tax Receipt</a></span>\n",
       " </div>]"
      ]
     },
     "execution_count": 36,
     "metadata": {},
     "output_type": "execute_result"
    }
   ],
   "source": [
    "import requests\n",
    "from bs4 import BeautifulSoup\n",
    "\n",
    "x = requests.get('https://www.cityofmadison.com/assessor/property/propertydata.cfm?ParcelN=070836304033')\n",
    "soup = BeautifulSoup(x.content, 'html.parser')\n",
    "find_el = soup.find_all('div', class_=\"clearfix\")\n",
    "find_el"
   ]
  },
  {
   "cell_type": "code",
   "execution_count": 30,
   "id": "27dfea9f",
   "metadata": {
    "scrolled": true
   },
   "outputs": [
    {
     "data": {
      "text/plain": [
       "'\\nCity Hall\\r\\n\\t\\t\\r\\n\\t\\t\\r\\n\\t\\tAldermanic District: 8 \\r\\n\\t\\tAld. Juliana R. Bennett \\n\\nWho are my elected officials?\\nWhere do I vote?\\n\\n'"
      ]
     },
     "execution_count": 30,
     "metadata": {},
     "output_type": "execute_result"
    }
   ],
   "source": [
    "find_el[4].text"
   ]
  },
  {
   "cell_type": "code",
   "execution_count": 27,
   "id": "88891247",
   "metadata": {},
   "outputs": [
    {
     "data": {
      "text/plain": [
       "'\\nCity Hall\\r\\n\\t\\t\\r\\n\\t\\t\\r\\n\\t\\tAldermanic District: 20 \\r\\n\\t\\tAld. Christian Albouras \\n\\nWho are my elected officials?\\nWhere do I vote?\\n\\n'"
      ]
     },
     "execution_count": 27,
     "metadata": {},
     "output_type": "execute_result"
    }
   ],
   "source": [
    "find_el[4].text"
   ]
  },
  {
   "cell_type": "code",
   "execution_count": 33,
   "id": "3593ecab",
   "metadata": {},
   "outputs": [
    {
     "data": {
      "text/plain": [
       "41"
      ]
     },
     "execution_count": 33,
     "metadata": {},
     "output_type": "execute_result"
    }
   ],
   "source": [
    "find_el[4].text.find(':')"
   ]
  },
  {
   "cell_type": "code",
   "execution_count": 35,
   "id": "afe99b52",
   "metadata": {},
   "outputs": [
    {
     "data": {
      "text/plain": [
       "' 8'"
      ]
     },
     "execution_count": 35,
     "metadata": {},
     "output_type": "execute_result"
    }
   ],
   "source": [
    "find_el[4].text[43:45]"
   ]
  },
  {
   "cell_type": "code",
   "execution_count": 39,
   "id": "6cbc1fdb",
   "metadata": {},
   "outputs": [
    {
     "data": {
      "text/plain": [
       "'20'"
      ]
     },
     "execution_count": 39,
     "metadata": {},
     "output_type": "execute_result"
    }
   ],
   "source": [
    "find_el[4].text[43:45]"
   ]
  },
  {
   "cell_type": "code",
   "execution_count": null,
   "id": "e14e0e68",
   "metadata": {},
   "outputs": [],
   "source": []
  },
  {
   "cell_type": "code",
   "execution_count": 3,
   "id": "da7a1053",
   "metadata": {},
   "outputs": [
    {
     "data": {
      "text/plain": [
       "'777 UNIVERSITY AVE LLC'"
      ]
     },
     "execution_count": 3,
     "metadata": {},
     "output_type": "execute_result"
    }
   ],
   "source": [
    "companyEnd = find_el[1].text.find('\\r\\n\\t\\t\\t\\r\\n')\n",
    "find_el[1].text[38:companyEnd-1]"
   ]
  },
  {
   "cell_type": "code",
   "execution_count": 4,
   "id": "73066d0f",
   "metadata": {},
   "outputs": [
    {
     "data": {
      "text/plain": [
       "'120 W GORHAM ST  MADISON, WI  53703'"
      ]
     },
     "execution_count": 4,
     "metadata": {},
     "output_type": "execute_result"
    }
   ],
   "source": [
    "companyAddressStart = find_el[1].text.find('\\n\\r\\n\\t\\t\\t')\n",
    "\n",
    "find_el[1].text[companyAddressStart+6:-11]"
   ]
  },
  {
   "cell_type": "code",
   "execution_count": null,
   "id": "31f2f1c1",
   "metadata": {},
   "outputs": [],
   "source": []
  },
  {
   "cell_type": "code",
   "execution_count": 5,
   "id": "1ed683b6",
   "metadata": {},
   "outputs": [
    {
     "data": {
      "text/plain": [
       "'777 UNIVERSITY AVE LLC'"
      ]
     },
     "execution_count": 5,
     "metadata": {},
     "output_type": "execute_result"
    }
   ],
   "source": [
    "companyEnd = find_el[1].text.find('\\r\\n\\t\\t\\t\\r\\n')\n",
    "find_el[1].text[38:companyEnd-1]"
   ]
  },
  {
   "cell_type": "code",
   "execution_count": 6,
   "id": "7335799f",
   "metadata": {},
   "outputs": [
    {
     "data": {
      "text/plain": [
       "'120 W GORHAM ST  MADISON, WI  53703'"
      ]
     },
     "execution_count": 6,
     "metadata": {},
     "output_type": "execute_result"
    }
   ],
   "source": [
    "companyAddressStart = find_el[1].text.find('\\n\\r\\n\\t\\t\\t')\n",
    "\n",
    "find_el[1].text[companyAddressStart+6:-11]"
   ]
  },
  {
   "cell_type": "code",
   "execution_count": 7,
   "id": "009b0d3e",
   "metadata": {},
   "outputs": [],
   "source": [
    "def webScrape(parcel):\n",
    "    x = requests.get('https://www.cityofmadison.com/assessor/property/propertydata.cfm?ParcelN={}'.format(parcel))\n",
    "    soup = BeautifulSoup(x.content, 'html.parser')\n",
    "    find_el = soup.find_all('div', class_=\"clearfix\")\n",
    "    companyEnd = find_el[1].text.find('\\r\\n\\t\\t\\t\\r\\n')\n",
    "    company = find_el[1].text[37:companyEnd]\n",
    "    company = company.strip()\n",
    "    companyAddressStart = find_el[1].text.find('\\n\\r\\n\\t\\t\\t')\n",
    "\n",
    "    address = find_el[1].text[companyAddressStart+5:-10]\n",
    "    address = address.strip()\n",
    "    return company, address"
   ]
  },
  {
   "cell_type": "code",
   "execution_count": 8,
   "id": "4e22552d",
   "metadata": {},
   "outputs": [
    {
     "data": {
      "text/plain": [
       "'PACHECO, OMAR LEZAMA  MARIA D D CONTRERAS'"
      ]
     },
     "execution_count": 8,
     "metadata": {},
     "output_type": "execute_result"
    }
   ],
   "source": [
    "x, y = webScrape('070836222011')\n",
    "x"
   ]
  },
  {
   "cell_type": "code",
   "execution_count": 9,
   "id": "0e11eab2",
   "metadata": {},
   "outputs": [
    {
     "data": {
      "text/plain": [
       "'10 EDGARTOWN CT  MADISON, WI  53719'"
      ]
     },
     "execution_count": 9,
     "metadata": {},
     "output_type": "execute_result"
    }
   ],
   "source": [
    "y"
   ]
  },
  {
   "cell_type": "code",
   "execution_count": 1,
   "id": "cc2174ee",
   "metadata": {},
   "outputs": [],
   "source": [
    "import pandas as pd\n",
    "table = pd.read_csv(\"cleardata.csv\")"
   ]
  },
  {
   "cell_type": "code",
   "execution_count": 3,
   "id": "5237d1fe",
   "metadata": {},
   "outputs": [
    {
     "data": {
      "text/plain": [
       "75158"
      ]
     },
     "execution_count": 3,
     "metadata": {},
     "output_type": "execute_result"
    }
   ],
   "source": [
    "len(table['Parcel'])"
   ]
  },
  {
   "cell_type": "code",
   "execution_count": 12,
   "id": "7c4f9674",
   "metadata": {},
   "outputs": [
    {
     "data": {
      "text/plain": [
       "'070836222011'"
      ]
     },
     "execution_count": 12,
     "metadata": {},
     "output_type": "execute_result"
    }
   ],
   "source": [
    "'0' + str(table['Parcel'][0])"
   ]
  },
  {
   "cell_type": "code",
   "execution_count": 13,
   "id": "c98d9810",
   "metadata": {},
   "outputs": [],
   "source": [
    "# nameSeries = []\n",
    "# addressSeries = []\n",
    "# for i in table['Parcel'][:10]:\n",
    "#     x = '0'\n",
    "#     y = str(i)\n",
    "#     z = x + y\n",
    "#     name, address = webScrape(z)\n",
    "#     nameSeries.append(name)\n",
    "#     addressSeries.append(address)\n"
   ]
  },
  {
   "cell_type": "code",
   "execution_count": 14,
   "id": "041a1c76",
   "metadata": {},
   "outputs": [],
   "source": [
    "# nameSeries"
   ]
  },
  {
   "cell_type": "code",
   "execution_count": 15,
   "id": "04ff0500",
   "metadata": {},
   "outputs": [],
   "source": [
    "# pd.Series(nameSeries)"
   ]
  },
  {
   "cell_type": "code",
   "execution_count": 16,
   "id": "162e6e85",
   "metadata": {},
   "outputs": [
    {
     "data": {
      "text/plain": [
       "75158"
      ]
     },
     "execution_count": 16,
     "metadata": {},
     "output_type": "execute_result"
    }
   ],
   "source": [
    "len(table['Parcel'])"
   ]
  },
  {
   "cell_type": "code",
   "execution_count": 17,
   "id": "bcbe4bd9",
   "metadata": {},
   "outputs": [
    {
     "name": "stderr",
     "output_type": "stream",
     "text": [
      "Loading...: 100%|███████████████████████████████| 20/20 [00:09<00:00,  2.22it/s]"
     ]
    },
    {
     "name": "stdout",
     "output_type": "stream",
     "text": [
      "0\n"
     ]
    },
    {
     "name": "stderr",
     "output_type": "stream",
     "text": [
      "\n"
     ]
    }
   ],
   "source": [
    "from tqdm import tqdm\n",
    "import time\n",
    "errorCount = 0\n",
    "nameSeries = []\n",
    "addressSeries = []\n",
    "\n",
    "for i, j in zip(tqdm (range (len(table['Parcel'][:20])), desc=\"Loading...\", ascii=False, ncols=80), table['Parcel'][:20]):\n",
    "    try:\n",
    "        name, address = webScrape('0' + str(j))\n",
    "        nameSeries.append(name)\n",
    "        addressSeries.append(address)\n",
    "        time.sleep(0.1)\n",
    "    except:\n",
    "        errorCount += 1\n",
    "        pass\n",
    "pd.Series(nameSeries).to_csv('nametemp.csv',  index=False)\n",
    "pd.Series(addressSeries).to_csv('addresstemp.csv',  index=False)\n",
    "print(errorCount)"
   ]
  },
  {
   "cell_type": "code",
   "execution_count": 18,
   "id": "99619a03",
   "metadata": {
    "scrolled": true
   },
   "outputs": [],
   "source": [
    "# pd.Series(nameSeries)"
   ]
  },
  {
   "cell_type": "code",
   "execution_count": 19,
   "id": "29143bcd",
   "metadata": {},
   "outputs": [],
   "source": [
    "# pd.Series(addressSeries)"
   ]
  },
  {
   "cell_type": "code",
   "execution_count": 21,
   "id": "2b6066cf",
   "metadata": {},
   "outputs": [],
   "source": [
    "ab, ac = webScrape('070834422027')"
   ]
  },
  {
   "cell_type": "code",
   "execution_count": 22,
   "id": "4296d8a3",
   "metadata": {},
   "outputs": [
    {
     "data": {
      "text/plain": [
       "'KNOTT, DAVID  DIANA KNOTT'"
      ]
     },
     "execution_count": 22,
     "metadata": {},
     "output_type": "execute_result"
    }
   ],
   "source": [
    "ab"
   ]
  },
  {
   "cell_type": "code",
   "execution_count": 23,
   "id": "f527926e",
   "metadata": {},
   "outputs": [
    {
     "data": {
      "text/plain": [
       "'1614 WALDORF BLVD  MADISON, WI  53719'"
      ]
     },
     "execution_count": 23,
     "metadata": {},
     "output_type": "execute_result"
    }
   ],
   "source": [
    "ac"
   ]
  },
  {
   "cell_type": "code",
   "execution_count": null,
   "id": "388ed5e9",
   "metadata": {},
   "outputs": [],
   "source": []
  }
 ],
 "metadata": {
  "kernelspec": {
   "display_name": "Python 3 (ipykernel)",
   "language": "python",
   "name": "python3"
  },
  "language_info": {
   "codemirror_mode": {
    "name": "ipython",
    "version": 3
   },
   "file_extension": ".py",
   "mimetype": "text/x-python",
   "name": "python",
   "nbconvert_exporter": "python",
   "pygments_lexer": "ipython3",
   "version": "3.9.7"
  }
 },
 "nbformat": 4,
 "nbformat_minor": 5
}
