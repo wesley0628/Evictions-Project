{
 "cells": [
  {
   "cell_type": "code",
   "execution_count": 1,
   "id": "c8c60157",
   "metadata": {
    "scrolled": true
   },
   "outputs": [
    {
     "data": {
      "text/plain": [
       "[<div class=\"clearfix\">\n",
       " <div class=\"feature\">Michelle Drea, Esq.<br/>City Assessor</div>\n",
       " </div>,\n",
       " <div class=\"clearfix\">\n",
       " <h2>Owner(s)\n",
       " <p>\n",
       "         \t\n",
       "         \t\n",
       " \t\t\t\t1532 JEFFERSON LLC <br/> ATTN GREENBUSH PROPERTIES\n",
       " \t\t\t\n",
       "         </p>\n",
       " <p>\n",
       " \t\t\tPO BOX 259324 <br/> MADISON, WI  53725-9324\n",
       "         </p>\n",
       " </h2></div>,\n",
       " <div class=\"clearfix\">\n",
       " <span>Refuse Collection</span>\n",
       " <ul>\n",
       " <li>District: 08D</li>\n",
       " <li>\n",
       " <a href=\"http://www.cityofmadison.com/streets/documents/8D.pdf\" target=\"_blank\">Schedule</a>\n",
       " </li>\n",
       " </ul>\n",
       " </div>,\n",
       " <div class=\"clearfix\">\n",
       " <h2>School Details</h2>\n",
       " <span>\n",
       "         \tDistrict: \n",
       " \t\t\t\n",
       " \t\t\t\t<a href=\"http://www.madison.k12.wi.us/\" target=\"_blank\">Madison</a>\n",
       " </span> <br/>\n",
       " <ul>\n",
       " <li>Franklin-Randall</li>\n",
       " <li>Hamilton</li>\n",
       " <li>West</li>\n",
       " </ul>\n",
       " </div>,\n",
       " <div class=\"clearfix\">\n",
       " <h2>City Hall</h2>\n",
       " \t\t\n",
       " \t\t\n",
       " \t\tAldermanic District: 13 <br/>\n",
       " \t\tAld. Tag Evers <br/>\n",
       " <ul>\n",
       " <li><a href=\"https://www.cityofmadison.com/clerk/my-elected-officials/elected-official.cfm?parcelN=070922405290\" target=\"_blank\">Who are my elected officials?</a></li>\n",
       " <li><a href=\"https://www.cityofmadison.com/clerk/where-do-i-vote/polling-location.cfm?ParcelN=070922405290\" target=\"_blank\">Where do I vote?</a></li>\n",
       " </ul>\n",
       " </div>,\n",
       " <div class=\"clearfix info-bar\">\n",
       " <a class=\"btn\" href=\"/assessor/property/generatepdf/parcel.cfm?ParcelN=070922405290&amp;Type=G\" target=\"_blank\">Print/Save PDF of Property Details</a>\n",
       " <a class=\"btn\" href=\"/assessor/property/generatepdf/parcel.cfm?ParcelN=070922405290\" target=\"_blank\">Print/Save PDF of All Parcel Information</a>\n",
       " <span class=\"pull-right\"><a class=\"btn\" href=\"/assessor/property/taxreceipt.cfm?ParcelN=070922405290\" target=\"_blank\">Print Tax Receipt</a></span>\n",
       " </div>]"
      ]
     },
     "execution_count": 1,
     "metadata": {},
     "output_type": "execute_result"
    }
   ],
   "source": [
    "import requests\n",
    "from bs4 import BeautifulSoup\n",
    "\n",
    "x = requests.get('https://www.cityofmadison.com/assessor/property/propertydata.cfm?ParcelN=070922405290')\n",
    "soup = BeautifulSoup(x.content, 'html.parser')\n",
    "find_el = soup.find_all('div', class_=\"clearfix\")\n",
    "find_el"
   ]
  },
  {
   "cell_type": "code",
   "execution_count": null,
   "id": "27dfea9f",
   "metadata": {
    "scrolled": true
   },
   "outputs": [],
   "source": [
    "find_el[4].text"
   ]
  },
  {
   "cell_type": "code",
   "execution_count": null,
   "id": "3593ecab",
   "metadata": {},
   "outputs": [],
   "source": [
    "find_el[4].text.find(':')"
   ]
  },
  {
   "cell_type": "code",
   "execution_count": null,
   "id": "afe99b52",
   "metadata": {},
   "outputs": [],
   "source": [
    "find_el[4].text[43:45]"
   ]
  },
  {
   "cell_type": "code",
   "execution_count": null,
   "id": "e14e0e68",
   "metadata": {},
   "outputs": [],
   "source": []
  },
  {
   "cell_type": "code",
   "execution_count": null,
   "id": "da7a1053",
   "metadata": {},
   "outputs": [],
   "source": [
    "companyEnd = find_el[1].text.find('\\r\\n\\t\\t\\t\\r\\n')\n",
    "find_el[1].text[38:companyEnd-1]"
   ]
  },
  {
   "cell_type": "code",
   "execution_count": null,
   "id": "73066d0f",
   "metadata": {},
   "outputs": [],
   "source": [
    "companyAddressStart = find_el[1].text.find('\\n\\r\\n\\t\\t\\t')\n",
    "\n",
    "find_el[1].text[companyAddressStart+6:-11]"
   ]
  },
  {
   "cell_type": "code",
   "execution_count": null,
   "id": "31f2f1c1",
   "metadata": {},
   "outputs": [],
   "source": []
  },
  {
   "cell_type": "code",
   "execution_count": null,
   "id": "1ed683b6",
   "metadata": {},
   "outputs": [],
   "source": [
    "companyEnd = find_el[1].text.find('\\r\\n\\t\\t\\t\\r\\n')\n",
    "find_el[1].text[38:companyEnd-1]"
   ]
  },
  {
   "cell_type": "code",
   "execution_count": null,
   "id": "7335799f",
   "metadata": {},
   "outputs": [],
   "source": [
    "companyAddressStart = find_el[1].text.find('\\n\\r\\n\\t\\t\\t')\n",
    "\n",
    "find_el[1].text[companyAddressStart+6:-11]"
   ]
  },
  {
   "cell_type": "code",
   "execution_count": null,
   "id": "009b0d3e",
   "metadata": {},
   "outputs": [],
   "source": [
    "def webScrape(parcel):\n",
    "    x = requests.get('https://www.cityofmadison.com/assessor/property/propertydata.cfm?ParcelN={}'.format(parcel))\n",
    "    soup = BeautifulSoup(x.content, 'html.parser')\n",
    "    find_el = soup.find_all('div', class_=\"clearfix\")\n",
    "    companyEnd = find_el[1].text.find('\\r\\n\\t\\t\\t\\r\\n')\n",
    "    company = find_el[1].text[37:companyEnd]\n",
    "    company = company.strip()\n",
    "    companyAddressStart = find_el[1].text.find('\\n\\r\\n\\t\\t\\t')\n",
    "\n",
    "    address = find_el[1].text[companyAddressStart+5:-10]\n",
    "    address = address.strip()\n",
    "    return company, address"
   ]
  },
  {
   "cell_type": "code",
   "execution_count": null,
   "id": "4e22552d",
   "metadata": {},
   "outputs": [],
   "source": [
    "x, y = webScrape('070836222011')\n",
    "x"
   ]
  },
  {
   "cell_type": "code",
   "execution_count": null,
   "id": "0e11eab2",
   "metadata": {},
   "outputs": [],
   "source": [
    "y"
   ]
  },
  {
   "cell_type": "code",
   "execution_count": 1,
   "id": "cc2174ee",
   "metadata": {},
   "outputs": [],
   "source": [
    "import pandas as pd\n",
    "table = pd.read_csv(\"cleandata.csv\")"
   ]
  },
  {
   "cell_type": "code",
   "execution_count": 2,
   "id": "5237d1fe",
   "metadata": {},
   "outputs": [
    {
     "data": {
      "text/plain": [
       "76238"
      ]
     },
     "execution_count": 2,
     "metadata": {},
     "output_type": "execute_result"
    }
   ],
   "source": [
    "len(table['Parcel'])"
   ]
  },
  {
   "cell_type": "code",
   "execution_count": 6,
   "id": "25ea822a",
   "metadata": {},
   "outputs": [
    {
     "data": {
      "text/plain": [
       "1        70836222029\n",
       "2        70836301138\n",
       "3        70836302128\n",
       "4        70836303209\n",
       "5        70836304033\n",
       "            ...     \n",
       "76233    70923311074\n",
       "76234    70923311082\n",
       "76235    70923311090\n",
       "76236    70923311107\n",
       "76237    81015402019\n",
       "Name: Parcel, Length: 76237, dtype: int64"
      ]
     },
     "execution_count": 6,
     "metadata": {},
     "output_type": "execute_result"
    }
   ],
   "source": [
    "table['Parcel'][1:]"
   ]
  },
  {
   "cell_type": "code",
   "execution_count": null,
   "id": "7c4f9674",
   "metadata": {},
   "outputs": [],
   "source": [
    "'0' + str(table['Parcel'][0])"
   ]
  },
  {
   "cell_type": "code",
   "execution_count": null,
   "id": "c98d9810",
   "metadata": {},
   "outputs": [],
   "source": [
    "# nameSeries = []\n",
    "# addressSeries = []\n",
    "# for i in table['Parcel'][:10]:\n",
    "#     x = '0'\n",
    "#     y = str(i)\n",
    "#     z = x + y\n",
    "#     name, address = webScrape(z)\n",
    "#     nameSeries.append(name)\n",
    "#     addressSeries.append(address)\n"
   ]
  },
  {
   "cell_type": "code",
   "execution_count": null,
   "id": "041a1c76",
   "metadata": {},
   "outputs": [],
   "source": [
    "# nameSeries"
   ]
  },
  {
   "cell_type": "code",
   "execution_count": null,
   "id": "04ff0500",
   "metadata": {},
   "outputs": [],
   "source": [
    "# pd.Series(nameSeries)"
   ]
  },
  {
   "cell_type": "code",
   "execution_count": null,
   "id": "162e6e85",
   "metadata": {},
   "outputs": [],
   "source": [
    "len(table['Parcel'])"
   ]
  },
  {
   "cell_type": "code",
   "execution_count": null,
   "id": "bcbe4bd9",
   "metadata": {},
   "outputs": [],
   "source": [
    "from tqdm import tqdm\n",
    "import time\n",
    "errorCount = 0\n",
    "nameSeries = []\n",
    "addressSeries = []\n",
    "\n",
    "for i, j in zip(tqdm (range (len(table['Parcel'][:20])), desc=\"Loading...\", ascii=False, ncols=80), table['Parcel'][:20]):\n",
    "    try:\n",
    "        name, address = webScrape('0' + str(j))\n",
    "        nameSeries.append(name)\n",
    "        addressSeries.append(address)\n",
    "        time.sleep(0.1)\n",
    "    except:\n",
    "        errorCount += 1\n",
    "        pass\n",
    "pd.Series(nameSeries).to_csv('nametemp.csv',  index=False)\n",
    "pd.Series(addressSeries).to_csv('addresstemp.csv',  index=False)\n",
    "print(errorCount)"
   ]
  },
  {
   "cell_type": "code",
   "execution_count": null,
   "id": "99619a03",
   "metadata": {
    "scrolled": true
   },
   "outputs": [],
   "source": [
    "# pd.Series(nameSeries)"
   ]
  },
  {
   "cell_type": "code",
   "execution_count": null,
   "id": "29143bcd",
   "metadata": {},
   "outputs": [],
   "source": [
    "# pd.Series(addressSeries)"
   ]
  },
  {
   "cell_type": "code",
   "execution_count": null,
   "id": "2b6066cf",
   "metadata": {},
   "outputs": [],
   "source": [
    "ab, ac = webScrape('070834422027')"
   ]
  },
  {
   "cell_type": "code",
   "execution_count": null,
   "id": "4296d8a3",
   "metadata": {},
   "outputs": [],
   "source": [
    "ab"
   ]
  },
  {
   "cell_type": "code",
   "execution_count": null,
   "id": "f527926e",
   "metadata": {},
   "outputs": [],
   "source": [
    "ac"
   ]
  },
  {
   "cell_type": "code",
   "execution_count": 22,
   "id": "448f4e2c",
   "metadata": {},
   "outputs": [],
   "source": [
    "def webScrape(parcel):\n",
    "    x = requests.get('https://www.cityofmadison.com/assessor/property/propertydata.cfm?ParcelN={}'.format(parcel))\n",
    "    soup = BeautifulSoup(x.content, 'html.parser')\n",
    "    print(type(soup))\n",
    "    with open('propertyDetails/{}.html'.format(parcel), 'w') as f:\n",
    "        f.write(str(soup))\n",
    "    find_el = soup.find_all('div', class_=\"clearfix\")\n",
    "    companyEnd = find_el[1].text.find('\\r\\n\\t\\t\\t\\r\\n')\n",
    "    company = find_el[1].text[37:companyEnd]\n",
    "    company = company.strip()\n",
    "    companyAddressStart = find_el[1].text.find('\\n\\r\\n\\t\\t\\t')\n",
    "\n",
    "    address = find_el[1].text[companyAddressStart+5:-10]\n",
    "    address = address.strip()\n",
    "\n",
    "    index = find_el[4].text.find(':')\n",
    "    aldermanic = find_el[4].text[index+2:index+4]\n",
    "    aldermanic = aldermanic.strip()\n",
    "    \n",
    "    return company, address, aldermanic"
   ]
  },
  {
   "cell_type": "code",
   "execution_count": 23,
   "id": "59065739",
   "metadata": {},
   "outputs": [
    {
     "name": "stdout",
     "output_type": "stream",
     "text": [
      "<class 'bs4.BeautifulSoup'>\n"
     ]
    },
    {
     "data": {
      "text/plain": [
       "('777 UNIVERSITY AVE LLC', '120 W GORHAM ST  MADISON, WI  53703', '8')"
      ]
     },
     "execution_count": 23,
     "metadata": {},
     "output_type": "execute_result"
    }
   ],
   "source": [
    "webScrape('070923232048')"
   ]
  },
  {
   "cell_type": "code",
   "execution_count": null,
   "id": "1b8ecd99",
   "metadata": {},
   "outputs": [],
   "source": []
  }
 ],
 "metadata": {
  "kernelspec": {
   "display_name": "Python 3 (ipykernel)",
   "language": "python",
   "name": "python3"
  },
  "language_info": {
   "codemirror_mode": {
    "name": "ipython",
    "version": 3
   },
   "file_extension": ".py",
   "mimetype": "text/x-python",
   "name": "python",
   "nbconvert_exporter": "python",
   "pygments_lexer": "ipython3",
   "version": "3.8.10"
  }
 },
 "nbformat": 4,
 "nbformat_minor": 5
}
