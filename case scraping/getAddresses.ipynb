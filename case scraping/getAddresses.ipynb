{
 "cells": [
  {
   "cell_type": "code",
   "execution_count": 1,
   "id": "3a8eb09a",
   "metadata": {},
   "outputs": [],
   "source": [
    "import pandas as pd\n",
    "from bs4 import BeautifulSoup"
   ]
  },
  {
   "cell_type": "code",
   "execution_count": 2,
   "id": "0b7804d2",
   "metadata": {},
   "outputs": [],
   "source": [
    "table = pd.read_csv(\"table.csv\")"
   ]
  },
  {
   "cell_type": "code",
   "execution_count": 3,
   "id": "db0954fa",
   "metadata": {},
   "outputs": [
    {
     "data": {
      "text/plain": [
       "0     2021SC003171\n",
       "1     2021SC003163\n",
       "2     2021SC003161\n",
       "3     2021SC003158\n",
       "4     2021SC003151\n",
       "          ...     \n",
       "83    2021SC002726\n",
       "84    2021SC002720\n",
       "85    2021SC002713\n",
       "86    2021SC002712\n",
       "87    2021SC002710\n",
       "Name: Case, Length: 88, dtype: object"
      ]
     },
     "execution_count": 3,
     "metadata": {},
     "output_type": "execute_result"
    }
   ],
   "source": [
    "table['Case']"
   ]
  },
  {
   "cell_type": "code",
   "execution_count": 4,
   "id": "75ae53ad",
   "metadata": {},
   "outputs": [],
   "source": [
    "addressesList = list()\n",
    "for i in table['Case']:\n",
    "    with open(\"cases/{}.html\".format(i)) as f:\n",
    "        data = f.read()\n",
    "    soup = BeautifulSoup(data, 'html.parser')\n",
    "    if 'Defendant' in str(soup.findAll('div', {\"class\": \"party\"})[0]):\n",
    "        start = str(soup.findAll('div', {\"class\": \"party\"})[0].findAll('div', {\"class\": \"columns\"})[0]).find('</dt><dd>')\n",
    "        end = str(soup.findAll('div', {\"class\": \"party\"})[0].findAll('div', {\"class\": \"columns\"})[0]).find('</dd></dl></div>')\n",
    "        addressesList.append(str(soup.findAll('div', {\"class\": \"party\"})[0].findAll('div', {\"class\": \"columns\"})[0])[start+9:end])\n",
    "    else:\n",
    "        start = str(soup.findAll('div', {\"class\": \"party\"})[1].findAll('div', {\"class\": \"columns\"})[0]).find('</dt><dd>')\n",
    "        end = str(soup.findAll('div', {\"class\": \"party\"})[1].findAll('div', {\"class\": \"columns\"})[0]).find('</dd></dl></div>')\n",
    "        addressesList.append(str(soup.findAll('div', {\"class\": \"party\"})[1].findAll('div', {\"class\": \"columns\"})[0])[start+9:end])"
   ]
  },
  {
   "cell_type": "code",
   "execution_count": 5,
   "id": "f17fe06c",
   "metadata": {
    "scrolled": true
   },
   "outputs": [
    {
     "data": {
      "text/plain": [
       "['1755 Linnerud Drive #114, Sun Prairie, WI 53590 US',\n",
       " '177 TALON PLACE, Sun Prairie, WI 53590 US',\n",
       " '1282 SUNFIELD ST, Sun Prairie, WI 53590 US',\n",
       " '134 E Main Street Apt #2, Stoughton, WI 53589',\n",
       " '201 S. Academy St. #1, Stoughton, WI 53589 US',\n",
       " '3805 Constitution Drive, Middleton, WI 53562 US',\n",
       " '711 Pflaum Road, Madison, WI 53713',\n",
       " '903 Clarmar Drive, Sun Prairie, WI 53590 US',\n",
       " '6805 Raymond Rd, MADISON, WI 53711 US',\n",
       " '2515 Gaston Rd #202, Cottage Grove, WI 53527 US',\n",
       " '142 Paoli St # 206, Verona, WI 53593 US',\n",
       " '3137 Hermina St #1, Madison, WI 53714 US',\n",
       " '2515 Gaston Rd #130, Cottage Grove, WI 53527 US',\n",
       " '220 Foxdale Dr #3, Sun Prairie, WI 53590 US',\n",
       " '202 Foxdale Dr #3, SUN PRAIRIE, WI 53590 US',\n",
       " '1148 Morraine View Dr #305, MADISON, WI 53719 US',\n",
       " '2120 Hight Ridge Trl #305, Fitchburg, WI 53713',\n",
       " '30 North Shore Dr.  Apt. #1, Belleville, WI 53508 US',\n",
       " '4809 Kim Lane #2, Madison, WI 53704 US',\n",
       " '556 State Street #6, Madison, WI 53703 US',\n",
       " '5670 King James Court #3, Fitchburg, WI 53719 US',\n",
       " '2112 McKenna Blvd, Madison, WI 53711 US',\n",
       " 'P O Box 45486, Madison, WI 53714',\n",
       " '6328 Alison Lane, Madison, WI 53711 US',\n",
       " '845 Columbus St, Sun Prairie, WI 53590 US',\n",
       " '2122 Allied Drive #1, Madison, WI 53711 US',\n",
       " '2531 Winnebago St #311, Madison, WI 53704 US',\n",
       " '5441 Kalesey Ct Lot 56, Waunakee, WI 53597',\n",
       " '102 Walkmar Court Apt #4, Mount Horeb, WI 53572',\n",
       " '1421 South Park Street, Madison, WI 53715-2178',\n",
       " '5154 Anton Dr #217, Fitchburg, WI 53719 US',\n",
       " '5162 Anton Dr #303, Fitchburg, WI 53719 US',\n",
       " '1622 Fordem Ave #407, Madison, WI 53704 US',\n",
       " '1750 Fordem Ave #106, Madison, WI 53704 US',\n",
       " '915 S Page Street, Unit 8, Stoughton, WI 53589 US',\n",
       " '229 Swanton Rd #7, Madison, WI 53714 US',\n",
       " '320 Coyier Lane, Apt. 6, Madison, WI 53713 US',\n",
       " '225 Walnut Street, Apt 6, Oregon, WI 53575 US',\n",
       " '1601 Kenilworth Ct., Apt #2, Stoughton, WI 53589 US',\n",
       " '4814 Dale St., Apt #8, Mc Farland, WI 53558 US',\n",
       " '111 Chaiet Dr R, #302, Stoughton, WI 53589',\n",
       " '5142 Torino Ct #2, Middleton, WI 53562 US',\n",
       " '2306 Myrtle St, Madison, WI 53704 US',\n",
       " '2329 Carling Drive #4, Madison, WI 53711 US',\n",
       " '2334 Allied Drive #4, Madison, WI 53711 US',\n",
       " '2333 Chalet Gardens Road #4, Fitchburg, WI 53711 US',\n",
       " '3302 Leopold Way #211, Fitchburg, WI 53713 US',\n",
       " '2333 Chalet Gardens Road #2, Fitchburg, WI 53711 US',\n",
       " '2309 Cypress Way Apt 8, Madison, WI 53713',\n",
       " '5461 Daley Rd, Waunakee, WI 53597',\n",
       " '2019 Pike Dr., Apt. #7, Fitchburg, WI 53713 US',\n",
       " '7109 FLOWER LANE APT. F, Madison, WI 53717 US',\n",
       " '18 Lathrop, Madison, WI 53726',\n",
       " '320 Coyier Ln, Apt. 5, Madison, WI 53713 US',\n",
       " '5128 Brookfield Parkway, Apt #311, Madison, WI 53718 US',\n",
       " '575 S. Perry Parkway, Apartment 4, Oregon, WI 53575 US',\n",
       " '2431 Winnebago St #204, Madison, WI 53704 US',\n",
       " '2001 Traceway Drive #336, Fitchburg, WI 53713 US',\n",
       " '2510 Pennsylvania Avenue, Madison, WI 53704 US',\n",
       " '903 Delaplaine Court #220, Madison, WI 53715 US',\n",
       " '2116 Fisher St., #1, Madison, WI 53713 US',\n",
       " '4713 Cottage Grove Rd. #5, Madison, WI 53716 US',\n",
       " '810 Vernon Ave #4, Madison, WI 53714 US',\n",
       " '4520 THURSTON LANE # 5, FITCHBURG, WI 53711 US',\n",
       " '601 #5 E Oak St, Cottage Grove, WI 53527',\n",
       " '2301 Columbus Lane # 3, Madison, WI 53704 US',\n",
       " '820 N Clover Lane #A, Cottage Grove, WI 53527 US',\n",
       " '142 W Johnson Street # 102, Madison, WI 53703 US',\n",
       " '1006 N Page St, Stoughton, WI 53589',\n",
       " '232 Foxdale Drive #2, Sun Prairie, WI 53590 US',\n",
       " '104 1/2 Water St, Waunakee, WI 53597',\n",
       " '2226 Allied Drive #2, Madison, WI 53711',\n",
       " '2601 Post Road #206, Fitchburg, WI 53713 US',\n",
       " '6 Connecticut Ct, Madison, WI 53719',\n",
       " '3857 Clover Lane, Madison, WI 53714',\n",
       " '514 East Bluff, Madison, WI 53704 US',\n",
       " '104 Paoli St., Apt #6, Verona, WI 53593 US',\n",
       " '1050 West Galena Avenue #201, Freeport, IL 61032',\n",
       " '1013 Nicole Court, Black Earth, WI 53515 US',\n",
       " '1156 Enterprise Drive, Verona, WI 53593 US',\n",
       " '3301 Leopold Way #210, Fitchburg, WI 53713 US',\n",
       " '827 Brandie Road, Madison, WI 53714 US',\n",
       " '213 Deer Valley Road #3, Madison, WI 53713 US',\n",
       " '5205 Raymond Road, Madison, WI 53711 US',\n",
       " '3305 Thorp St, Madison, WI 53714 US',\n",
       " '5366 Kennedy Drive #9, Waunakee, WI 53597',\n",
       " '309 S. Dickinson Street, No. 2, Madison, WI 53703 US',\n",
       " '678 Granite Way, Sun Prairie, WI 53590']"
      ]
     },
     "execution_count": 5,
     "metadata": {},
     "output_type": "execute_result"
    }
   ],
   "source": [
    "addressesList"
   ]
  },
  {
   "cell_type": "code",
   "execution_count": 13,
   "id": "e0b54e92",
   "metadata": {},
   "outputs": [],
   "source": [
    "madisonAddressesList = list()\n",
    "for i in addressesList:\n",
    "    if 'madison' in i.lower():\n",
    "        madisonAddressesList.append(i)"
   ]
  },
  {
   "cell_type": "code",
   "execution_count": 15,
   "id": "9d514814",
   "metadata": {
    "scrolled": true
   },
   "outputs": [
    {
     "data": {
      "text/plain": [
       "['711 Pflaum Road, Madison, WI 53713',\n",
       " '6805 Raymond Rd, MADISON, WI 53711 US',\n",
       " '3137 Hermina St #1, Madison, WI 53714 US',\n",
       " '1148 Morraine View Dr #305, MADISON, WI 53719 US',\n",
       " '4809 Kim Lane #2, Madison, WI 53704 US',\n",
       " '556 State Street #6, Madison, WI 53703 US',\n",
       " '2112 McKenna Blvd, Madison, WI 53711 US',\n",
       " 'P O Box 45486, Madison, WI 53714',\n",
       " '6328 Alison Lane, Madison, WI 53711 US',\n",
       " '2122 Allied Drive #1, Madison, WI 53711 US',\n",
       " '2531 Winnebago St #311, Madison, WI 53704 US',\n",
       " '1421 South Park Street, Madison, WI 53715-2178',\n",
       " '1622 Fordem Ave #407, Madison, WI 53704 US',\n",
       " '1750 Fordem Ave #106, Madison, WI 53704 US',\n",
       " '229 Swanton Rd #7, Madison, WI 53714 US',\n",
       " '320 Coyier Lane, Apt. 6, Madison, WI 53713 US',\n",
       " '2306 Myrtle St, Madison, WI 53704 US',\n",
       " '2329 Carling Drive #4, Madison, WI 53711 US',\n",
       " '2334 Allied Drive #4, Madison, WI 53711 US',\n",
       " '2309 Cypress Way Apt 8, Madison, WI 53713',\n",
       " '7109 FLOWER LANE APT. F, Madison, WI 53717 US',\n",
       " '18 Lathrop, Madison, WI 53726',\n",
       " '320 Coyier Ln, Apt. 5, Madison, WI 53713 US',\n",
       " '5128 Brookfield Parkway, Apt #311, Madison, WI 53718 US',\n",
       " '2431 Winnebago St #204, Madison, WI 53704 US',\n",
       " '2510 Pennsylvania Avenue, Madison, WI 53704 US',\n",
       " '903 Delaplaine Court #220, Madison, WI 53715 US',\n",
       " '2116 Fisher St., #1, Madison, WI 53713 US',\n",
       " '4713 Cottage Grove Rd. #5, Madison, WI 53716 US',\n",
       " '810 Vernon Ave #4, Madison, WI 53714 US',\n",
       " '2301 Columbus Lane # 3, Madison, WI 53704 US',\n",
       " '142 W Johnson Street # 102, Madison, WI 53703 US',\n",
       " '2226 Allied Drive #2, Madison, WI 53711',\n",
       " '6 Connecticut Ct, Madison, WI 53719',\n",
       " '3857 Clover Lane, Madison, WI 53714',\n",
       " '514 East Bluff, Madison, WI 53704 US',\n",
       " '827 Brandie Road, Madison, WI 53714 US',\n",
       " '213 Deer Valley Road #3, Madison, WI 53713 US',\n",
       " '5205 Raymond Road, Madison, WI 53711 US',\n",
       " '3305 Thorp St, Madison, WI 53714 US',\n",
       " '309 S. Dickinson Street, No. 2, Madison, WI 53703 US']"
      ]
     },
     "execution_count": 15,
     "metadata": {},
     "output_type": "execute_result"
    }
   ],
   "source": [
    "madisonAddressesList"
   ]
  },
  {
   "cell_type": "code",
   "execution_count": 17,
   "id": "bccc9bf8",
   "metadata": {},
   "outputs": [],
   "source": [
    "pd.DataFrame(madisonAddressesList).to_csv('madisonEvictionAddresses.csv', index=False)"
   ]
  },
  {
   "cell_type": "code",
   "execution_count": 6,
   "id": "52bd308d",
   "metadata": {},
   "outputs": [
    {
     "data": {
      "text/plain": [
       "bs4.BeautifulSoup"
      ]
     },
     "execution_count": 6,
     "metadata": {},
     "output_type": "execute_result"
    }
   ],
   "source": [
    "# type(soup)"
   ]
  },
  {
   "cell_type": "code",
   "execution_count": 7,
   "id": "2dfbfec1",
   "metadata": {},
   "outputs": [
    {
     "data": {
      "text/plain": [
       "<div class=\"party\"><div class=\"partyDetailWrapper\"><h5 class=\"detailHeader\">Defendant: Knight, Jessica T.</h5><div class=\"partyDetail\"><div class=\"row\"><dl class=\"medium-4 small-6 column field\"><dt>Date of birth</dt><dd> </dd></dl><dl class=\"medium-4 small-6 column field\"><dt>Sex</dt><dd> </dd></dl><dl class=\"medium-4 small-6 column field\"><dt><span>Race <i class=\"fi-info helpIcon\" currentitem=\"false\" data-for=\"race-tooltip\" data-tip=\"true\"></i></span></dt><dd> </dd></dl></div><div class=\"row\"><div class=\"columns\"><dl class=\"field\"><dt>Address (last updated 06-04-2021)</dt><dd>678 Granite Way, Sun Prairie, WI 53590</dd></dl></div></div></div></div></div>"
      ]
     },
     "execution_count": 7,
     "metadata": {},
     "output_type": "execute_result"
    }
   ],
   "source": [
    "# soup.findAll('div', {\"class\": \"party\"})[1]"
   ]
  },
  {
   "cell_type": "code",
   "execution_count": 8,
   "id": "c4a51460",
   "metadata": {},
   "outputs": [
    {
     "data": {
      "text/plain": [
       "True"
      ]
     },
     "execution_count": 8,
     "metadata": {},
     "output_type": "execute_result"
    }
   ],
   "source": [
    "# 'Plaintiff' in str(soup.findAll('div', {\"class\": \"party\"})[0])"
   ]
  },
  {
   "cell_type": "code",
   "execution_count": 9,
   "id": "f4d0f817",
   "metadata": {},
   "outputs": [
    {
     "data": {
      "text/plain": [
       "123"
      ]
     },
     "execution_count": 9,
     "metadata": {},
     "output_type": "execute_result"
    }
   ],
   "source": [
    "# str(soup.findAll('div', {\"class\": \"party\"})[1].findAll('div', {\"class\": \"columns\"})[0]).find('</dd></dl></div>')"
   ]
  },
  {
   "cell_type": "code",
   "execution_count": 11,
   "id": "8d01176e",
   "metadata": {},
   "outputs": [
    {
     "data": {
      "text/plain": [
       "'678 Granite Way, Sun Prairie, WI 53590'"
      ]
     },
     "execution_count": 11,
     "metadata": {},
     "output_type": "execute_result"
    }
   ],
   "source": [
    "# str(soup.findAll('div', {\"class\": \"party\"})[1].findAll('div', {\"class\": \"columns\"})[0])[85:123]"
   ]
  },
  {
   "cell_type": "code",
   "execution_count": null,
   "id": "43ab2940",
   "metadata": {},
   "outputs": [],
   "source": []
  }
 ],
 "metadata": {
  "kernelspec": {
   "display_name": "Python 3 (ipykernel)",
   "language": "python",
   "name": "python3"
  },
  "language_info": {
   "codemirror_mode": {
    "name": "ipython",
    "version": 3
   },
   "file_extension": ".py",
   "mimetype": "text/x-python",
   "name": "python",
   "nbconvert_exporter": "python",
   "pygments_lexer": "ipython3",
   "version": "3.8.10"
  }
 },
 "nbformat": 4,
 "nbformat_minor": 5
}
