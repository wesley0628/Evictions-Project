{
 "cells": [
  {
   "cell_type": "code",
   "execution_count": 2,
   "metadata": {
    "collapsed": true,
    "pycharm": {
     "name": "#%%\n"
    }
   },
   "outputs": [
    {
     "ename": "ModuleNotFoundError",
     "evalue": "No module named 'bs4'",
     "output_type": "error",
     "traceback": [
      "\u001B[0;31m---------------------------------------------------------------------------\u001B[0m",
      "\u001B[0;31mModuleNotFoundError\u001B[0m                       Traceback (most recent call last)",
      "\u001B[0;32m<ipython-input-2-b395fa4cdbdc>\u001B[0m in \u001B[0;36m<module>\u001B[0;34m\u001B[0m\n\u001B[1;32m      1\u001B[0m \u001B[0;32mimport\u001B[0m \u001B[0mos\u001B[0m\u001B[0;34m\u001B[0m\u001B[0;34m\u001B[0m\u001B[0m\n\u001B[0;32m----> 2\u001B[0;31m \u001B[0;32mfrom\u001B[0m \u001B[0mbs4\u001B[0m \u001B[0;32mimport\u001B[0m \u001B[0mBeautifulSoup\u001B[0m\u001B[0;34m\u001B[0m\u001B[0;34m\u001B[0m\u001B[0m\n\u001B[0m\u001B[1;32m      3\u001B[0m \u001B[0;32mimport\u001B[0m \u001B[0mpandas\u001B[0m \u001B[0;32mas\u001B[0m \u001B[0mpd\u001B[0m\u001B[0;34m\u001B[0m\u001B[0;34m\u001B[0m\u001B[0m\n",
      "\u001B[0;31mModuleNotFoundError\u001B[0m: No module named 'bs4'"
     ]
    }
   ],
   "source": [
    "import os\n",
    "from bs4 import BeautifulSoup\n",
    "import pandas as pd"
   ]
  },
  {
   "cell_type": "code",
   "execution_count": null,
   "metadata": {
    "pycharm": {
     "name": "#%%\n"
    }
   },
   "outputs": [],
   "source": [
    "path = os.path.join(\"211_counts_htmls\", \"Buffalo, WI_Aug 1, 2020-Aug 31, 2020.html\")\n",
    "path\n",
    "file = \"Buffalo, WI_Aug 1, 2020-Aug 31, 2020.html\"\n",
    "split = file.split(\"_\")\n",
    "county = split[0].split(\",\")[0]\n",
    "date = split[1].split('.')[0]\n",
    "date"
   ]
  },
  {
   "cell_type": "code",
   "execution_count": null,
   "metadata": {
    "pycharm": {
     "name": "#%%\n"
    }
   },
   "outputs": [],
   "source": [
    "soup = BeautifulSoup(open(path))\n",
    "soup.prettify()\n",
    "elements = soup.findAll('span', class_='toolTipSubCategory tooltipstered')\n",
    "values = soup.findAll('span', class_='value')\n",
    "col_element = []\n",
    "col_value = []\n",
    "col_county = []\n",
    "col_date = []\n",
    "for i in range(len(elements)):\n",
    "    col_element.append(elements[i].text)\n",
    "\n",
    "col_element.insert(13, 'Total for top requests')\n",
    "\n",
    "for i in range(len(values)):\n",
    "    value = int(str(values[i].text).strip('\\\\n').replace(',', ''))\n",
    "    col_value.append(value)\n",
    "    col_county.append(county)\n",
    "    col_date.append(date)\n",
    "\n",
    "test = {\"COUNTY\": col_county, \"DATE\": col_date,\"REQUEST_CATEGORIES\": col_element, \"COUNT\": col_value}\n",
    "test_data= pd.DataFrame(test)\n",
    "test_data\n"
   ]
  },
  {
   "cell_type": "code",
   "execution_count": null,
   "outputs": [],
   "source": [
    "for i in range(14, 22):\n",
    "    col_element[i] = \"(Housing & Shelter) \" + col_element[i]\n",
    "\n",
    "for i in range(22, 30):\n",
    "    col_element[i] = \"(Food) \" + col_element[i]\n",
    "\n",
    "for i in range(30, 38):\n",
    "    col_element[i] = \"(Utilities) \" + col_element[i]\n",
    "\n",
    "for i in range(38, 52):\n",
    "    col_element[i] = \"(Healthcare & COVID-19) \" + col_element[i]\n",
    "\n",
    "for i in range(52, 58):\n",
    "    col_element[i] = \"(Mental Health & Addictions) \" + col_element[i]\n",
    "\n",
    "for i in range(58, 66):\n",
    "    col_element[i] = \"(Employment & Income) \" + col_element[i]\n",
    "\n",
    "for i in range(66, 74):\n",
    "    col_element[i] = \"(Clothing & Household) \" + col_element[i]\n",
    "\n",
    "for i in range(74, 78):\n",
    "    col_element[i] = \"(Child Care & Parenting) \" + col_element[i]\n",
    "\n",
    "for i in range(78, 84):\n",
    "    col_element[i] = \"(Government & Legal) \" + col_element[i]\n",
    "\n",
    "for i in range(84, 92):\n",
    "    col_element[i] = \"(Transportation Assistance) \" + col_element[i]\n",
    "\n",
    "for i in range(92, 102):\n",
    "    col_element[i] = \"(Education) \" + col_element[i]\n",
    "\n",
    "for i in range(102, 110):\n",
    "    col_element[i] = \"(Disaster) \" + col_element[i]\n",
    "\n",
    "for i in range(110, 118):\n",
    "    col_element[i] = \"(Other) \" + col_element[i]\n"
   ],
   "metadata": {
    "collapsed": false,
    "pycharm": {
     "name": "#%%\n"
    }
   }
  },
  {
   "cell_type": "code",
   "execution_count": null,
   "outputs": [],
   "source": [
    "col_element"
   ],
   "metadata": {
    "collapsed": false,
    "pycharm": {
     "name": "#%%\n"
    }
   }
  },
  {
   "cell_type": "markdown",
   "source": [
    "## All above are test for getting data"
   ],
   "metadata": {
    "collapsed": false,
    "pycharm": {
     "name": "#%% md\n"
    }
   }
  },
  {
   "cell_type": "code",
   "execution_count": null,
   "outputs": [],
   "source": [
    "file_list = os.listdir(\"211_counts_htmls\")\n",
    "file_list.remove(\".DS_Store\")\n",
    "len(file_list)"
   ],
   "metadata": {
    "collapsed": false,
    "pycharm": {
     "name": "#%%\n"
    }
   }
  },
  {
   "cell_type": "code",
   "execution_count": null,
   "outputs": [],
   "source": [
    "data = pd.DataFrame()\n",
    "for file in file_list:\n",
    "    path = os.path.join('211_counts_htmls', file)\n",
    "    with open(path, 'r') as current_html:\n",
    "        current_soap = BeautifulSoup(current_html)\n",
    "        split = file.split(\"_\")\n",
    "        county = split[0].split(\",\")[0]\n",
    "        date = split[1].split('.')[0]\n",
    "        values = current_soap.findAll('span', class_='value')\n",
    "        col_value = []\n",
    "        col_county = []\n",
    "        col_date = []\n",
    "\n",
    "        for i in range(len(values)):\n",
    "            value = int(str(values[i].text).strip('\\\\n').replace(',', ''))\n",
    "            col_value.append(value)\n",
    "            col_county.append(county)\n",
    "            col_date.append(date)\n",
    "\n",
    "        current_dict = {\"COUNTY\": col_county, \"DATE\": col_date,\n",
    "                             \"REQUEST_CATEGORIES\": col_element, \"COUNT\": col_value}\n",
    "        current_frame = pd.DataFrame(current_dict)\n",
    "        frames = [data, current_frame]\n",
    "        data = pd.concat(frames)\n",
    "data.head()\n",
    "\n",
    "\n"
   ],
   "metadata": {
    "collapsed": false,
    "pycharm": {
     "name": "#%%\n"
    }
   }
  },
  {
   "cell_type": "code",
   "execution_count": null,
   "outputs": [],
   "source": [
    "data.to_csv(\"211_counts.csv\", index = False)"
   ],
   "metadata": {
    "collapsed": false,
    "pycharm": {
     "name": "#%%\n"
    }
   }
  },
  {
   "cell_type": "code",
   "execution_count": null,
   "outputs": [],
   "source": [
    "len(data)\n"
   ],
   "metadata": {
    "collapsed": false,
    "pycharm": {
     "name": "#%%\n"
    }
   }
  },
  {
   "cell_type": "code",
   "execution_count": null,
   "outputs": [],
   "source": [],
   "metadata": {
    "collapsed": false,
    "pycharm": {
     "name": "#%%\n"
    }
   }
  }
 ],
 "metadata": {
  "kernelspec": {
   "display_name": "Python 3",
   "language": "python",
   "name": "python3"
  },
  "language_info": {
   "codemirror_mode": {
    "name": "ipython",
    "version": 3
   },
   "file_extension": ".py",
   "mimetype": "text/x-python",
   "name": "python",
   "nbconvert_exporter": "python",
   "pygments_lexer": "ipython3",
   "version": "3.8.5"
  }
 },
 "nbformat": 4,
 "nbformat_minor": 1
}