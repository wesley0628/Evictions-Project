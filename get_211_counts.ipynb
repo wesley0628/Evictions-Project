{
 "cells": [
  {
   "cell_type": "code",
   "execution_count": 2,
   "metadata": {
    "collapsed": true
   },
   "outputs": [],
   "source": [
    "import os\n",
    "from bs4 import BeautifulSoup\n",
    "import pandas as pd"
   ]
  },
  {
   "cell_type": "code",
   "execution_count": 10,
   "metadata": {
    "pycharm": {
     "name": "#%%\n"
    }
   },
   "outputs": [
    {
     "data": {
      "text/plain": "'Aug 1, 2020-Aug 31, 2020'"
     },
     "execution_count": 10,
     "metadata": {},
     "output_type": "execute_result"
    }
   ],
   "source": [
    "path = os.path.join(\"211_counts_htmls\", \"Buffalo, WI_Aug 1, 2020-Aug 31, 2020.html\")\n",
    "path\n",
    "file = \"Buffalo, WI_Aug 1, 2020-Aug 31, 2020.html\"\n",
    "split = file.split(\"_\")\n",
    "county = split[0].split(\",\")[0]\n",
    "date = split[1].split('.')[0]\n",
    "date"
   ]
  },
  {
   "cell_type": "code",
   "execution_count": 41,
   "metadata": {
    "pycharm": {
     "name": "#%%\n"
    }
   },
   "outputs": [
    {
     "data": {
      "text/plain": "      COUNTY                      DATE           REQUEST_CATEGORIES  COUNT\n0    Buffalo  Aug 1, 2020-Aug 31, 2020            Housing & Shelter      1\n1    Buffalo  Aug 1, 2020-Aug 31, 2020                         Food      1\n2    Buffalo  Aug 1, 2020-Aug 31, 2020                    Utilities      0\n3    Buffalo  Aug 1, 2020-Aug 31, 2020        Healthcare & COVID-19      1\n4    Buffalo  Aug 1, 2020-Aug 31, 2020   Mental Health & Addictions      1\n..       ...                       ...                          ...    ...\n113  Buffalo  Aug 1, 2020-Aug 31, 2020           Support & advocacy      0\n114  Buffalo  Aug 1, 2020-Aug 31, 2020                   Complaints      0\n115  Buffalo  Aug 1, 2020-Aug 31, 2020  Special population services      0\n116  Buffalo  Aug 1, 2020-Aug 31, 2020          Special populations      0\n117  Buffalo  Aug 1, 2020-Aug 31, 2020           All other requests      0\n\n[118 rows x 4 columns]",
      "text/html": "<div>\n<style scoped>\n    .dataframe tbody tr th:only-of-type {\n        vertical-align: middle;\n    }\n\n    .dataframe tbody tr th {\n        vertical-align: top;\n    }\n\n    .dataframe thead th {\n        text-align: right;\n    }\n</style>\n<table border=\"1\" class=\"dataframe\">\n  <thead>\n    <tr style=\"text-align: right;\">\n      <th></th>\n      <th>COUNTY</th>\n      <th>DATE</th>\n      <th>REQUEST_CATEGORIES</th>\n      <th>COUNT</th>\n    </tr>\n  </thead>\n  <tbody>\n    <tr>\n      <th>0</th>\n      <td>Buffalo</td>\n      <td>Aug 1, 2020-Aug 31, 2020</td>\n      <td>Housing &amp; Shelter</td>\n      <td>1</td>\n    </tr>\n    <tr>\n      <th>1</th>\n      <td>Buffalo</td>\n      <td>Aug 1, 2020-Aug 31, 2020</td>\n      <td>Food</td>\n      <td>1</td>\n    </tr>\n    <tr>\n      <th>2</th>\n      <td>Buffalo</td>\n      <td>Aug 1, 2020-Aug 31, 2020</td>\n      <td>Utilities</td>\n      <td>0</td>\n    </tr>\n    <tr>\n      <th>3</th>\n      <td>Buffalo</td>\n      <td>Aug 1, 2020-Aug 31, 2020</td>\n      <td>Healthcare &amp; COVID-19</td>\n      <td>1</td>\n    </tr>\n    <tr>\n      <th>4</th>\n      <td>Buffalo</td>\n      <td>Aug 1, 2020-Aug 31, 2020</td>\n      <td>Mental Health &amp; Addictions</td>\n      <td>1</td>\n    </tr>\n    <tr>\n      <th>...</th>\n      <td>...</td>\n      <td>...</td>\n      <td>...</td>\n      <td>...</td>\n    </tr>\n    <tr>\n      <th>113</th>\n      <td>Buffalo</td>\n      <td>Aug 1, 2020-Aug 31, 2020</td>\n      <td>Support &amp; advocacy</td>\n      <td>0</td>\n    </tr>\n    <tr>\n      <th>114</th>\n      <td>Buffalo</td>\n      <td>Aug 1, 2020-Aug 31, 2020</td>\n      <td>Complaints</td>\n      <td>0</td>\n    </tr>\n    <tr>\n      <th>115</th>\n      <td>Buffalo</td>\n      <td>Aug 1, 2020-Aug 31, 2020</td>\n      <td>Special population services</td>\n      <td>0</td>\n    </tr>\n    <tr>\n      <th>116</th>\n      <td>Buffalo</td>\n      <td>Aug 1, 2020-Aug 31, 2020</td>\n      <td>Special populations</td>\n      <td>0</td>\n    </tr>\n    <tr>\n      <th>117</th>\n      <td>Buffalo</td>\n      <td>Aug 1, 2020-Aug 31, 2020</td>\n      <td>All other requests</td>\n      <td>0</td>\n    </tr>\n  </tbody>\n</table>\n<p>118 rows × 4 columns</p>\n</div>"
     },
     "execution_count": 41,
     "metadata": {},
     "output_type": "execute_result"
    }
   ],
   "source": [
    "soup = BeautifulSoup(open(path))\n",
    "soup.prettify()\n",
    "elements = soup.findAll('span', class_='toolTipSubCategory tooltipstered')\n",
    "values = soup.findAll('span', class_='value')\n",
    "col_element = []\n",
    "col_value = []\n",
    "col_county = []\n",
    "col_date = []\n",
    "for i in range(len(elements)):\n",
    "    col_element.append(elements[i].text)\n",
    "\n",
    "col_element.insert(13, 'Total for top requests')\n",
    "\n",
    "for i in range(len(values)):\n",
    "    value = int(str(values[i].text).strip('\\\\n').replace(',', ''))\n",
    "    col_value.append(value)\n",
    "    col_county.append(county)\n",
    "    col_date.append(date)\n",
    "\n",
    "test = {\"COUNTY\": col_county, \"DATE\": col_date,\"REQUEST_CATEGORIES\": col_element, \"COUNT\": col_value}\n",
    "test_data= pd.DataFrame(test)\n",
    "test_data\n"
   ]
  },
  {
   "cell_type": "code",
   "execution_count": 42,
   "outputs": [],
   "source": [
    "for i in range(14, 22):\n",
    "    col_element[i] = \"(Housing & Shelter) \" + col_element[i]\n",
    "\n",
    "for i in range(22, 30):\n",
    "    col_element[i] = \"(Food) \" + col_element[i]\n",
    "\n",
    "for i in range(30, 38):\n",
    "    col_element[i] = \"(Utilities) \" + col_element[i]\n",
    "\n",
    "for i in range(38, 52):\n",
    "    col_element[i] = \"(Healthcare & COVID-19) \" + col_element[i]\n",
    "\n",
    "for i in range(52, 58):\n",
    "    col_element[i] = \"(Mental Health & Addictions) \" + col_element[i]\n",
    "\n",
    "for i in range(58, 66):\n",
    "    col_element[i] = \"(Employment & Income) \" + col_element[i]\n",
    "\n",
    "for i in range(66, 74):\n",
    "    col_element[i] = \"(Clothing & Household) \" + col_element[i]\n",
    "\n",
    "for i in range(74, 78):\n",
    "    col_element[i] = \"(Child Care & Parenting) \" + col_element[i]\n",
    "\n",
    "for i in range(78, 84):\n",
    "    col_element[i] = \"(Government & Legal) \" + col_element[i]\n",
    "\n",
    "for i in range(84, 92):\n",
    "    col_element[i] = \"(Transportation Assistance) \" + col_element[i]\n",
    "\n",
    "for i in range(92, 102):\n",
    "    col_element[i] = \"(Education) \" + col_element[i]\n",
    "\n",
    "for i in range(102, 110):\n",
    "    col_element[i] = \"(Disaster) \" + col_element[i]\n",
    "\n",
    "for i in range(110, 118):\n",
    "    col_element[i] = \"(Other) \" + col_element[i]\n"
   ],
   "metadata": {
    "collapsed": false,
    "pycharm": {
     "name": "#%%\n"
    }
   }
  },
  {
   "cell_type": "code",
   "execution_count": 43,
   "outputs": [
    {
     "data": {
      "text/plain": "['Housing & Shelter',\n 'Food',\n 'Utilities',\n 'Healthcare & COVID-19',\n 'Mental Health & Addictions',\n 'Employment & Income',\n 'Clothing & Household',\n 'Child Care & Parenting',\n 'Government & Legal',\n 'Transportation Assistance',\n 'Education',\n 'Disaster',\n 'Other',\n 'Total for top requests',\n '(Housing & Shelter) Shelters',\n '(Housing & Shelter) Low-cost housing',\n '(Housing & Shelter) Home repair/ maintenance',\n '(Housing & Shelter) Rent assistance',\n '(Housing & Shelter) Mortgage assistance',\n '(Housing & Shelter) Landlord/ tenant issues',\n '(Housing & Shelter) Contacts',\n '(Housing & Shelter) Other housing & shelter',\n '(Food) Help buying food',\n '(Food) Food pantries',\n '(Food) Soup kitchens & Meals to-go',\n '(Food) Feeding children',\n '(Food) Home-delivered meals',\n '(Food) Holiday meals',\n '(Food) Contacts',\n '(Food) Other food',\n '(Utilities) Electric',\n '(Utilities) Gas',\n '(Utilities) Water',\n '(Utilities) Heating fuel',\n '(Utilities) Utility payment plans',\n '(Utilities) Phone/internet',\n '(Utilities) Contacts',\n '(Utilities) Other utilities',\n '(Healthcare & COVID-19) Health insurance',\n '(Healthcare & COVID-19) Medical expense assistance',\n '(Healthcare & COVID-19) Medical providers',\n '(Healthcare & COVID-19) Dental & eye care',\n '(Healthcare & COVID-19) Prescription medications',\n '(Healthcare & COVID-19) Nursing homes & adult care',\n '(Healthcare & COVID-19) Death related',\n '(Healthcare & COVID-19) Public health & safety',\n '(Healthcare & COVID-19) COVID testing',\n '(Healthcare & COVID-19) COVID vaccination',\n '(Healthcare & COVID-19) All other COVID',\n '(Healthcare & COVID-19) Other health services',\n '(Healthcare & COVID-19) Contacts',\n '(Healthcare & COVID-19) Other healthcare',\n '(Mental Health & Addictions) Substance abuse & addictions',\n '(Mental Health & Addictions) Marriage & family',\n '(Mental Health & Addictions) Crisis intervention & suicide',\n '(Mental Health & Addictions) Mental health services',\n '(Mental Health & Addictions) Mental health facilities',\n '(Mental Health & Addictions) Other mental health & addictions',\n '(Employment & Income) Job search',\n '(Employment & Income) Job development',\n '(Employment & Income) Unemployment benefits',\n '(Employment & Income) Tax preparation',\n '(Employment & Income) Financial assistance',\n '(Employment & Income) Money management',\n '(Employment & Income) Contacts',\n '(Employment & Income) Other employment & income',\n '(Clothing & Household) Clothing',\n '(Clothing & Household) Personal hygiene products',\n '(Clothing & Household) Appliances',\n '(Clothing & Household) Home furnishings',\n '(Clothing & Household) Thrift shops',\n '(Clothing & Household) Seasonal/ holiday',\n '(Clothing & Household) Contacts',\n '(Clothing & Household) Other clothing & household',\n '(Child Care & Parenting) Child care',\n '(Child Care & Parenting) Parenting',\n '(Child Care & Parenting) Family support services',\n '(Child Care & Parenting) Other child care & parenting',\n '(Government & Legal) Legal assistance',\n '(Government & Legal) Child & family law',\n '(Government & Legal) Immigration assistance',\n '(Government & Legal) Government',\n '(Government & Legal) Contacts',\n '(Government & Legal) Other government & legal',\n '(Transportation Assistance) Medical transportation',\n '(Transportation Assistance) Public transportation',\n '(Transportation Assistance) Automobile assistance',\n '(Transportation Assistance) Long-distance travel',\n '(Transportation Assistance) Ride share services',\n '(Transportation Assistance) Bike programs',\n '(Transportation Assistance) Contacts',\n '(Transportation Assistance) Other transportation assistance',\n '(Education) Early childhood education',\n '(Education) Adult education',\n '(Education) Literacy',\n '(Education) ESL/ citizenship',\n '(Education) Tutoring',\n '(Education) School supplies',\n '(Education) Scholarships & aid',\n '(Education) Other education providers',\n '(Education) Contacts',\n '(Education) Other education',\n '(Disaster) Food/ water',\n '(Disaster) Housing/ shelter',\n '(Disaster) Transportation/ fuel',\n '(Disaster) Health/ safety',\n '(Disaster) Financial assistance',\n '(Disaster) Disaster relief services',\n '(Disaster) Contacts',\n '(Disaster) Other disaster',\n '(Other) Agency & other contact information',\n '(Other) Community development & enrichment',\n '(Other) Volunteering & donations',\n '(Other) Support & advocacy',\n '(Other) Complaints',\n '(Other) Special population services',\n '(Other) Special populations',\n '(Other) All other requests']"
     },
     "execution_count": 43,
     "metadata": {},
     "output_type": "execute_result"
    }
   ],
   "source": [
    "col_element"
   ],
   "metadata": {
    "collapsed": false,
    "pycharm": {
     "name": "#%%\n"
    }
   }
  },
  {
   "cell_type": "markdown",
   "source": [
    "## All above are test for getting data"
   ],
   "metadata": {
    "collapsed": false
   }
  },
  {
   "cell_type": "code",
   "execution_count": 68,
   "outputs": [
    {
     "data": {
      "text/plain": "2016"
     },
     "execution_count": 68,
     "metadata": {},
     "output_type": "execute_result"
    }
   ],
   "source": [
    "file_list = os.listdir(\"211_counts_htmls\")\n",
    "file_list.remove(\".DS_Store\")\n",
    "len(file_list)"
   ],
   "metadata": {
    "collapsed": false,
    "pycharm": {
     "name": "#%%\n"
    }
   }
  },
  {
   "cell_type": "code",
   "execution_count": 69,
   "outputs": [
    {
     "data": {
      "text/plain": "  COUNTY                      DATE          REQUEST_CATEGORIES  COUNT\n0  Dodge  Aug 1, 2019-Aug 31, 2019           Housing & Shelter     21\n1  Dodge  Aug 1, 2019-Aug 31, 2019                        Food      6\n2  Dodge  Aug 1, 2019-Aug 31, 2019                   Utilities      6\n3  Dodge  Aug 1, 2019-Aug 31, 2019       Healthcare & COVID-19      4\n4  Dodge  Aug 1, 2019-Aug 31, 2019  Mental Health & Addictions      6",
      "text/html": "<div>\n<style scoped>\n    .dataframe tbody tr th:only-of-type {\n        vertical-align: middle;\n    }\n\n    .dataframe tbody tr th {\n        vertical-align: top;\n    }\n\n    .dataframe thead th {\n        text-align: right;\n    }\n</style>\n<table border=\"1\" class=\"dataframe\">\n  <thead>\n    <tr style=\"text-align: right;\">\n      <th></th>\n      <th>COUNTY</th>\n      <th>DATE</th>\n      <th>REQUEST_CATEGORIES</th>\n      <th>COUNT</th>\n    </tr>\n  </thead>\n  <tbody>\n    <tr>\n      <th>0</th>\n      <td>Dodge</td>\n      <td>Aug 1, 2019-Aug 31, 2019</td>\n      <td>Housing &amp; Shelter</td>\n      <td>21</td>\n    </tr>\n    <tr>\n      <th>1</th>\n      <td>Dodge</td>\n      <td>Aug 1, 2019-Aug 31, 2019</td>\n      <td>Food</td>\n      <td>6</td>\n    </tr>\n    <tr>\n      <th>2</th>\n      <td>Dodge</td>\n      <td>Aug 1, 2019-Aug 31, 2019</td>\n      <td>Utilities</td>\n      <td>6</td>\n    </tr>\n    <tr>\n      <th>3</th>\n      <td>Dodge</td>\n      <td>Aug 1, 2019-Aug 31, 2019</td>\n      <td>Healthcare &amp; COVID-19</td>\n      <td>4</td>\n    </tr>\n    <tr>\n      <th>4</th>\n      <td>Dodge</td>\n      <td>Aug 1, 2019-Aug 31, 2019</td>\n      <td>Mental Health &amp; Addictions</td>\n      <td>6</td>\n    </tr>\n  </tbody>\n</table>\n</div>"
     },
     "execution_count": 69,
     "metadata": {},
     "output_type": "execute_result"
    }
   ],
   "source": [
    "data = pd.DataFrame()\n",
    "for file in file_list:\n",
    "    path = os.path.join('211_counts_htmls', file)\n",
    "    with open(path, 'r') as current_html:\n",
    "        current_soap = BeautifulSoup(current_html)\n",
    "        split = file.split(\"_\")\n",
    "        county = split[0].split(\",\")[0]\n",
    "        date = split[1].split('.')[0]\n",
    "        values = current_soap.findAll('span', class_='value')\n",
    "        col_value = []\n",
    "        col_county = []\n",
    "        col_date = []\n",
    "\n",
    "        for i in range(len(values)):\n",
    "            value = int(str(values[i].text).strip('\\\\n').replace(',', ''))\n",
    "            col_value.append(value)\n",
    "            col_county.append(county)\n",
    "            col_date.append(date)\n",
    "\n",
    "        current_dict = {\"COUNTY\": col_county, \"DATE\": col_date,\n",
    "                             \"REQUEST_CATEGORIES\": col_element, \"COUNT\": col_value}\n",
    "        current_frame = pd.DataFrame(current_dict)\n",
    "        frames = [data, current_frame]\n",
    "        data = pd.concat(frames)\n",
    "data.head()\n",
    "\n",
    "\n"
   ],
   "metadata": {
    "collapsed": false,
    "pycharm": {
     "name": "#%%\n"
    }
   }
  },
  {
   "cell_type": "code",
   "execution_count": 71,
   "outputs": [],
   "source": [
    "data.to_csv(\"211_counts.csv\", index = False)"
   ],
   "metadata": {
    "collapsed": false,
    "pycharm": {
     "name": "#%%\n"
    }
   }
  },
  {
   "cell_type": "code",
   "execution_count": 72,
   "outputs": [
    {
     "data": {
      "text/plain": "237888"
     },
     "execution_count": 72,
     "metadata": {},
     "output_type": "execute_result"
    }
   ],
   "source": [
    "len(data)\n"
   ],
   "metadata": {
    "collapsed": false,
    "pycharm": {
     "name": "#%%\n"
    }
   }
  },
  {
   "cell_type": "code",
   "execution_count": null,
   "outputs": [],
   "source": [],
   "metadata": {
    "collapsed": false,
    "pycharm": {
     "name": "#%%\n"
    }
   }
  }
 ],
 "metadata": {
  "kernelspec": {
   "display_name": "Python 3",
   "language": "python",
   "name": "python3"
  },
  "language_info": {
   "codemirror_mode": {
    "name": "ipython",
    "version": 3
   },
   "file_extension": ".py",
   "mimetype": "text/x-python",
   "name": "python",
   "nbconvert_exporter": "python",
   "pygments_lexer": "ipython3",
   "version": "3.8.5"
  }
 },
 "nbformat": 4,
 "nbformat_minor": 1
}