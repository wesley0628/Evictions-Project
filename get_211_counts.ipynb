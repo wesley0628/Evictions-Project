{
 "cells": [
  {
   "cell_type": "code",
   "execution_count": 1,
   "metadata": {
    "collapsed": true
   },
   "outputs": [],
   "source": [
    "import os\n",
    "from bs4 import BeautifulSoup\n",
    "import pandas as pd"
   ]
  },
  {
   "cell_type": "code",
   "execution_count": 2,
   "metadata": {
    "pycharm": {
     "name": "#%%\n"
    }
   },
   "outputs": [
    {
     "data": {
      "text/plain": "'211_counts_htmls/Buffalo, WI_Aug 1, 2020-Aug 31, 2020.html'"
     },
     "execution_count": 2,
     "metadata": {},
     "output_type": "execute_result"
    }
   ],
   "source": [
    "path = os.path.join(\"211_counts_htmls\", \"Buffalo, WI_Aug 1, 2020-Aug 31, 2020.html\")\n",
    "path"
   ]
  },
  {
   "cell_type": "code",
   "execution_count": 3,
   "metadata": {
    "pycharm": {
     "name": "#%%\n"
    }
   },
   "outputs": [
    {
     "data": {
      "text/plain": "              REQUEST_CATEGORIES  COUNT\n0              Housing & Shelter      1\n1                           Food      1\n2                      Utilities      0\n3          Healthcare & COVID-19      1\n4     Mental Health & Addictions      1\n..                           ...    ...\n113           Support & advocacy      0\n114                   Complaints      0\n115  Special population services      0\n116          Special populations      0\n117           All other requests      0\n\n[118 rows x 2 columns]",
      "text/html": "<div>\n<style scoped>\n    .dataframe tbody tr th:only-of-type {\n        vertical-align: middle;\n    }\n\n    .dataframe tbody tr th {\n        vertical-align: top;\n    }\n\n    .dataframe thead th {\n        text-align: right;\n    }\n</style>\n<table border=\"1\" class=\"dataframe\">\n  <thead>\n    <tr style=\"text-align: right;\">\n      <th></th>\n      <th>REQUEST_CATEGORIES</th>\n      <th>COUNT</th>\n    </tr>\n  </thead>\n  <tbody>\n    <tr>\n      <th>0</th>\n      <td>Housing &amp; Shelter</td>\n      <td>1</td>\n    </tr>\n    <tr>\n      <th>1</th>\n      <td>Food</td>\n      <td>1</td>\n    </tr>\n    <tr>\n      <th>2</th>\n      <td>Utilities</td>\n      <td>0</td>\n    </tr>\n    <tr>\n      <th>3</th>\n      <td>Healthcare &amp; COVID-19</td>\n      <td>1</td>\n    </tr>\n    <tr>\n      <th>4</th>\n      <td>Mental Health &amp; Addictions</td>\n      <td>1</td>\n    </tr>\n    <tr>\n      <th>...</th>\n      <td>...</td>\n      <td>...</td>\n    </tr>\n    <tr>\n      <th>113</th>\n      <td>Support &amp; advocacy</td>\n      <td>0</td>\n    </tr>\n    <tr>\n      <th>114</th>\n      <td>Complaints</td>\n      <td>0</td>\n    </tr>\n    <tr>\n      <th>115</th>\n      <td>Special population services</td>\n      <td>0</td>\n    </tr>\n    <tr>\n      <th>116</th>\n      <td>Special populations</td>\n      <td>0</td>\n    </tr>\n    <tr>\n      <th>117</th>\n      <td>All other requests</td>\n      <td>0</td>\n    </tr>\n  </tbody>\n</table>\n<p>118 rows × 2 columns</p>\n</div>"
     },
     "execution_count": 3,
     "metadata": {},
     "output_type": "execute_result"
    }
   ],
   "source": [
    "soup = BeautifulSoup(open(path))\n",
    "soup.prettify()\n",
    "elements = soup.findAll('span', class_='toolTipSubCategory tooltipstered')\n",
    "values = soup.findAll('span', class_='value')\n",
    "col_element = []\n",
    "col_value = []\n",
    "for i in range(len(elements)):\n",
    "    col_element.append(elements[i].text)\n",
    "\n",
    "col_element.insert(13, 'Total for top requests')\n",
    "\n",
    "for i in range(len(values)):\n",
    "    value = int(str(values[i].text).strip('\\\\n').replace(',', ''))\n",
    "    col_value.append(value)\n",
    "\n",
    "test = {\"REQUEST_CATEGORIES\": col_element, \"COUNT\": col_value}\n",
    "test_data= pd.DataFrame(test)\n",
    "test_data"
   ]
  },
  {
   "cell_type": "code",
   "execution_count": null,
   "outputs": [],
   "source": [],
   "metadata": {
    "collapsed": false,
    "pycharm": {
     "name": "#%%\n"
    }
   }
  }
 ],
 "metadata": {
  "kernelspec": {
   "display_name": "Python 3",
   "language": "python",
   "name": "python3"
  },
  "language_info": {
   "codemirror_mode": {
    "name": "ipython",
    "version": 3
   },
   "file_extension": ".py",
   "mimetype": "text/x-python",
   "name": "python",
   "nbconvert_exporter": "python",
   "pygments_lexer": "ipython3",
   "version": "3.8.5"
  }
 },
 "nbformat": 4,
 "nbformat_minor": 1
}