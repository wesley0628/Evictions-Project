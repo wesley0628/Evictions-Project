{
 "cells": [
  {
   "cell_type": "code",
   "execution_count": 116,
   "id": "613f4aa4",
   "metadata": {},
   "outputs": [],
   "source": [
    "import pandas\n",
    "from selenium import webdriver\n",
    "from selenium.webdriver.chrome.options import Options\n",
    "from selenium.common.exceptions import NoSuchElementException\n",
    "from selenium.webdriver.support.select import Select\n",
    "import time\n",
    "\n",
    "options = Options()\n",
    "options.headless = False\n",
    "# change to your driver path\n",
    "driver = webdriver.Chrome(options=options, executable_path=\"/Users/wangyueyu/chromedriver\")\n",
    "from selenium.webdriver.common.action_chains import ActionChains\n",
    "from bs4 import BeautifulSoup"
   ]
  },
  {
   "cell_type": "code",
   "execution_count": 117,
   "id": "cb09b722",
   "metadata": {},
   "outputs": [],
   "source": [
    "# reach the url of the 211 count\n",
    "url = \"https://wi.211counts.org/\"\n",
    "driver.get(url)"
   ]
  },
  {
   "cell_type": "code",
   "execution_count": 118,
   "id": "cc14ecf5",
   "metadata": {},
   "outputs": [],
   "source": [
    "# go to the page for scraping\n",
    "# following are code to get 211 calls count from Nov 1, 2019 to Dec 1, 2019 at Adams county\n",
    "# follow this demo to get the total 211 calls count in different counties and different periods\n",
    "driver.find_element_by_id(\"forWeb\").click()\n",
    "time.sleep(0.5)\n",
    "driver.find_element_by_xpath('//input[@value=\"524\"]').click()\n",
    "time.sleep(0.5)\n",
    "driver.find_element_by_id(\"submitSearch\").click()\n",
    "time.sleep(0.5)\n",
    "driver.find_element_by_id(\"mobileMenu\").find_elements_by_xpath('div')[1].click()\n",
    "time.sleep(0.5)\n",
    "driver.find_elements_by_class_name(\"active-result.group-option\")[0].click()\n",
    "time.sleep(0.5)\n",
    "driver.find_element_by_id(\"fromDate\").send_keys('Nov 1, 2019')\n",
    "time.sleep(0.5)\n",
    "driver.find_element_by_id(\"toDate\").send_keys('Nov 30, 2019')\n",
    "time.sleep(0.5)\n",
    "driver.find_element_by_class_name(\"outer-overlay\").click()\n",
    "time.sleep(0.5)\n",
    "driver.find_element_by_id(\"go\").click()\n",
    "time.sleep(0.5)\n",
    "driver.find_element_by_class_name(\"displayAs\").find_elements_by_xpath('label')[2].click()\n",
    "# drpdown = b.find_element_by_tag_name('select')\n",
    "# print(drpdown)\n",
    "# # btn = b.find_element_by_class_name('regionTime uppercase')\n",
    "# drpdown.click()\n",
    "# btn.click()\n",
    "# time.sleep(0.2)"
   ]
  },
  {
   "cell_type": "code",
   "execution_count": 119,
   "id": "508f480c",
   "metadata": {},
   "outputs": [],
   "source": [
    "\n",
    "#do screenshots\n",
    "#do different find_element_by_class (read the documentation)\n",
    "#Step 1: have a screenshot of the page (after automating some clicks)"
   ]
  },
  {
   "cell_type": "code",
   "execution_count": 120,
   "id": "cbf297e4",
   "metadata": {
    "pycharm": {
     "name": "#%%\n"
    }
   },
   "outputs": [],
   "source": [
    "#navigate to the url, find element <ul class=\"chosen-results\", click the button, select the li class with text \"Custom Date\"\n",
    "#then select the dates"
   ]
  },
  {
   "cell_type": "code",
   "execution_count": 121,
   "outputs": [],
   "source": [
    "# create an dict to map scrape value of county to county name\n",
    "driver.get(url)"
   ],
   "metadata": {
    "collapsed": false,
    "pycharm": {
     "name": "#%%\n"
    }
   }
  },
  {
   "cell_type": "code",
   "execution_count": 122,
   "outputs": [],
   "source": [
    "driver.find_element_by_id(\"forWeb\").click()\n",
    "time.sleep(0.5)\n",
    "county_list = driver.find_element_by_class_name(\"county\").find_elements_by_xpath('li')\n"
   ],
   "metadata": {
    "collapsed": false,
    "pycharm": {
     "name": "#%%\n"
    }
   }
  },
  {
   "cell_type": "code",
   "execution_count": 123,
   "outputs": [
    {
     "data": {
      "text/plain": "{'Adams, WI': 524,\n 'Ashland, WI': 525,\n 'Barron, WI': 526,\n 'Bayfield, WI': 527,\n 'Brown, WI': 528,\n 'Buffalo, WI': 529,\n 'Burnett, WI': 530,\n 'Calumet, WI': 531,\n 'Chippewa, WI': 532,\n 'Clark, WI': 533,\n 'Columbia, WI': 534,\n 'Crawford, WI': 535,\n 'Dane, WI': 536,\n 'Dodge, WI': 537,\n 'Door, WI': 538,\n 'Douglas, WI': 539,\n 'Dunn, WI': 540,\n 'Eau Claire, WI': 541,\n 'Florence, WI': 542,\n 'Fond du Lac, WI': 543,\n 'Forest, WI': 544,\n 'Grant, WI': 545,\n 'Green Lake, WI': 546,\n 'Green, WI': 547,\n 'Iowa, WI': 548,\n 'Iron, WI': 549,\n 'Jackson, WI': 550,\n 'Jefferson, WI': 551,\n 'Juneau, WI': 552,\n 'Kenosha, WI': 553,\n 'Kewaunee, WI': 554,\n 'La Crosse, WI': 555,\n 'Lafayette, WI': 556,\n 'Langlade, WI': 557,\n 'Lincoln, WI': 558,\n 'Manitowoc, WI': 559,\n 'Marathon, WI': 560,\n 'Marinette, WI': 561,\n 'Marquette, WI': 562,\n 'Menominee, WI': 563,\n 'Milwaukee, WI': 564,\n 'Monroe, WI': 565,\n 'Oconto, WI': 566,\n 'Oneida, WI': 567,\n 'Outagamie, WI': 568,\n 'Ozaukee, WI': 569,\n 'Pepin, WI': 570,\n 'Pierce, WI': 571,\n 'Polk, WI': 572,\n 'Portage, WI': 573,\n 'Price, WI': 574,\n 'Racine, WI': 575,\n 'Richland, WI': 576,\n 'Rock, WI': 577,\n 'Rusk, WI': 578,\n 'Sauk, WI': 579,\n 'Sawyer, WI': 580,\n 'Shawano, WI': 581,\n 'Sheboygan, WI': 582,\n 'St. Croix, WI': 583,\n 'Taylor, WI': 584,\n 'Trempealeau, WI': 585,\n 'Vernon, WI': 586,\n 'Vilas, WI': 587,\n 'Walworth, WI': 588,\n 'Washburn, WI': 589,\n 'Washington, WI': 590,\n 'Waukesha, WI': 591,\n 'Waupaca, WI': 592,\n 'Waushara, WI': 593,\n 'Winnebago, WI': 594,\n 'Wood, WI': 595}"
     },
     "execution_count": 123,
     "metadata": {},
     "output_type": "execute_result"
    }
   ],
   "source": [
    "value = 523\n",
    "county_dict = dict()\n",
    "for county in county_list:\n",
    "    county_dict[county.text] = value\n",
    "    value += 1\n",
    "del county_dict[\"All\"]\n",
    "county_dict"
   ],
   "metadata": {
    "collapsed": false,
    "pycharm": {
     "name": "#%%\n"
    }
   }
  },
  {
   "cell_type": "code",
   "execution_count": 124,
   "outputs": [
    {
     "data": {
      "text/plain": "[['Jul 1, 2019', 'Jul 31, 2019'],\n ['Aug 1, 2019', 'Aug 31, 2019'],\n ['Sep 1, 2019', 'Sep 30, 2019'],\n ['Oct 1, 2019', 'Oct 31, 2019'],\n ['Nov 1, 2019', 'Nov 30, 2019'],\n ['Dec 1, 2019', 'Dec 31, 2019'],\n ['Jan 1, 2020', 'Jan 31, 2020'],\n ['Feb 1, 2020', 'Feb 29, 2020'],\n ['Mar 1, 2020', 'Mar 31, 2020'],\n ['Apr 1, 2020', 'Apr 30, 2020'],\n ['May 1, 2020', 'May 31, 2020'],\n ['Jun 1, 2020', 'Jun 30, 2020'],\n ['Jul 1, 2020', 'Jul 31, 2020'],\n ['Aug 1, 2020', 'Aug 31, 2020'],\n ['Sep 1, 2020', 'Sep 30, 2020'],\n ['Oct 1, 2020', 'Oct 31, 2020'],\n ['Nov 1, 2020', 'Nov 30, 2020'],\n ['Dec 1, 2020', 'Dec 31, 2020'],\n ['Jan 1, 2021', 'Jan 31, 2021'],\n ['Feb 1, 2021', 'Feb 28, 2021'],\n ['Mar 1, 2021', 'Mar 31, 2021'],\n ['Apr 1, 2021', 'Apr 30, 2021'],\n ['May 1, 2021', 'May 31, 2021'],\n ['Jun 1, 2021', 'Jun 30, 2021'],\n ['Jul 1, 2021', 'Jul 31, 2021'],\n ['Aug 1, 2021', 'Aug 31, 2021'],\n ['Sep 1, 2021', 'Sep 30, 2021'],\n ['Oct 1, 2021', 'Oct 31, 2021']]"
     },
     "execution_count": 124,
     "metadata": {},
     "output_type": "execute_result"
    }
   ],
   "source": [
    "months = [\"Jan\", \"Feb\", \"Mar\", \"Apr\", \"May\", \"Jun\", \"Jul\", \"Aug\", \"Sep\", \"Oct\", \"Nov\", \"Dec\"]\n",
    "big_months = [\"Jan\", \"Mar\", \"May\", \"Jul\", \"Aug\", \"Oct\", \"Dec\"]\n",
    "years = [\"2019\", \"2020\", \"2021\"]\n",
    "month_day = [\"1\", \"28\", \"29\", \"30\", \"31\"]\n",
    "search_time_pair = [[0 for i in range(2)] for j in range(28)]\n",
    "# 2019\n",
    "for i in range(6, 12):\n",
    "    search_time_pair[i-6][0] = months[i] + \" \" + month_day[0] + \", \" + years[0]\n",
    "    if months[i] in big_months:\n",
    "        search_time_pair[i-6][1] = months[i] + \" \" + month_day[-1] + \", \" + years[0]\n",
    "    else:\n",
    "        search_time_pair[i-6][1] = months[i] + \" \" + month_day[-2] + \", \" + years[0]\n",
    "\n",
    "#2020\n",
    "for i in range(0, 12):\n",
    "    search_time_pair[i+6][0] = months[i] + \" \" + month_day[0] + \", \" + years[1]\n",
    "    if months[i] in big_months:\n",
    "        search_time_pair[i+6][1] = months[i] + \" \" + month_day[-1] + \", \" + years[1]\n",
    "    elif months[i] == \"Feb\":\n",
    "        search_time_pair[i+6][1] = months[i] + \" \" + month_day[2] + \", \" + years[1]\n",
    "    else:\n",
    "        search_time_pair[i+6][1] = months[i] + \" \" + month_day[-2] + \", \" + years[1]\n",
    "\n",
    "#2021\n",
    "for i in range(0, 10):\n",
    "    search_time_pair[i+18][0] = months[i] + \" \" + month_day[0] + \", \" + years[2]\n",
    "    if months[i] in big_months:\n",
    "        search_time_pair[i+18][1] = months[i] + \" \" + month_day[-1] + \", \" + years[2]\n",
    "    elif months[i] == \"Feb\":\n",
    "        search_time_pair[i+18][1] = months[i] + \" \" + month_day[1] + \", \" + years[2]\n",
    "    else:\n",
    "        search_time_pair[i+18][1] = months[i] + \" \" + month_day[-2] + \", \" + years[2]\n",
    "\n",
    "search_time_pair"
   ],
   "metadata": {
    "collapsed": false,
    "pycharm": {
     "name": "#%%\n"
    }
   }
  },
  {
   "cell_type": "code",
   "execution_count": 125,
   "outputs": [],
   "source": [
    "# then use the county_dict and search_time_pair for scraping 211 counts\n",
    "driver.get(url)\n"
   ],
   "metadata": {
    "collapsed": false,
    "pycharm": {
     "name": "#%%\n"
    }
   }
  },
  {
   "cell_type": "code",
   "execution_count": 126,
   "outputs": [
    {
     "ename": "KeyboardInterrupt",
     "evalue": "",
     "output_type": "error",
     "traceback": [
      "\u001B[0;31m---------------------------------------------------------------------------\u001B[0m",
      "\u001B[0;31mKeyboardInterrupt\u001B[0m                         Traceback (most recent call last)",
      "\u001B[0;32m<ipython-input-126-a0e5dd8c11d3>\u001B[0m in \u001B[0;36m<module>\u001B[0;34m\u001B[0m\n\u001B[1;32m     17\u001B[0m         \u001B[0mtime\u001B[0m\u001B[0;34m.\u001B[0m\u001B[0msleep\u001B[0m\u001B[0;34m(\u001B[0m\u001B[0;36m0.2\u001B[0m\u001B[0;34m)\u001B[0m\u001B[0;34m\u001B[0m\u001B[0;34m\u001B[0m\u001B[0m\n\u001B[1;32m     18\u001B[0m         \u001B[0mdriver\u001B[0m\u001B[0;34m.\u001B[0m\u001B[0mfind_element_by_id\u001B[0m\u001B[0;34m(\u001B[0m\u001B[0;34m\"toDate\"\u001B[0m\u001B[0;34m)\u001B[0m\u001B[0;34m.\u001B[0m\u001B[0mclear\u001B[0m\u001B[0;34m(\u001B[0m\u001B[0;34m)\u001B[0m\u001B[0;34m\u001B[0m\u001B[0;34m\u001B[0m\u001B[0m\n\u001B[0;32m---> 19\u001B[0;31m         \u001B[0mtime\u001B[0m\u001B[0;34m.\u001B[0m\u001B[0msleep\u001B[0m\u001B[0;34m(\u001B[0m\u001B[0;36m0.2\u001B[0m\u001B[0;34m)\u001B[0m\u001B[0;34m\u001B[0m\u001B[0;34m\u001B[0m\u001B[0m\n\u001B[0m\u001B[1;32m     20\u001B[0m         \u001B[0mdriver\u001B[0m\u001B[0;34m.\u001B[0m\u001B[0mfind_element_by_id\u001B[0m\u001B[0;34m(\u001B[0m\u001B[0;34m\"fromDate\"\u001B[0m\u001B[0;34m)\u001B[0m\u001B[0;34m.\u001B[0m\u001B[0msend_keys\u001B[0m\u001B[0;34m(\u001B[0m\u001B[0msearch_month\u001B[0m\u001B[0;34m[\u001B[0m\u001B[0;36m0\u001B[0m\u001B[0;34m]\u001B[0m\u001B[0;34m)\u001B[0m\u001B[0;34m\u001B[0m\u001B[0;34m\u001B[0m\u001B[0m\n\u001B[1;32m     21\u001B[0m         \u001B[0mtime\u001B[0m\u001B[0;34m.\u001B[0m\u001B[0msleep\u001B[0m\u001B[0;34m(\u001B[0m\u001B[0;36m0.5\u001B[0m\u001B[0;34m)\u001B[0m\u001B[0;34m\u001B[0m\u001B[0;34m\u001B[0m\u001B[0m\n",
      "\u001B[0;31mKeyboardInterrupt\u001B[0m: "
     ]
    }
   ],
   "source": [
    "for county in county_dict:\n",
    "    driver.get(url)\n",
    "    time.sleep(10)\n",
    "    driver.find_element_by_id(\"forWeb\").click()\n",
    "    time.sleep(0.5)\n",
    "    xpath = '//input[@value=\\\"' + str(county_dict[county]) + '\\\"]'\n",
    "    driver.find_element_by_xpath(xpath).click()\n",
    "    time.sleep(0.5)\n",
    "    driver.find_element_by_id(\"submitSearch\").click()\n",
    "    time.sleep(0.5)\n",
    "    driver.find_element_by_id(\"mobileMenu\").find_elements_by_xpath('div')[1].click()\n",
    "    time.sleep(0.5)\n",
    "    driver.find_elements_by_class_name(\"active-result.group-option\")[0].click()\n",
    "    time.sleep(0.5)\n",
    "    for search_month in search_time_pair:\n",
    "        driver.find_element_by_id(\"fromDate\").clear()\n",
    "        time.sleep(0.2)\n",
    "        driver.find_element_by_id(\"toDate\").clear()\n",
    "        time.sleep(0.2)\n",
    "        driver.find_element_by_id(\"fromDate\").send_keys(search_month[0])\n",
    "        time.sleep(0.5)\n",
    "        driver.find_element_by_id(\"toDate\").send_keys(search_month[1])\n",
    "        time.sleep(0.5)\n",
    "        ActionChains(driver).move_by_offset(0, 0).click().perform()\n",
    "        time.sleep(0.5)\n",
    "        driver.find_element_by_id(\"go\").click()\n",
    "        time.sleep(0.5)\n",
    "        driver.find_element_by_class_name(\"displayAs\").find_elements_by_xpath('label')[2].click()\n",
    "\n",
    "        # TODO: scraping the 211 data\n"
   ],
   "metadata": {
    "collapsed": false,
    "pycharm": {
     "name": "#%%\n"
    }
   }
  },
  {
   "cell_type": "code",
   "execution_count": null,
   "outputs": [],
   "source": [],
   "metadata": {
    "collapsed": false,
    "pycharm": {
     "name": "#%%\n"
    }
   }
  }
 ],
 "metadata": {
  "kernelspec": {
   "display_name": "Python 3",
   "language": "python",
   "name": "python3"
  },
  "language_info": {
   "codemirror_mode": {
    "name": "ipython",
    "version": 3
   },
   "file_extension": ".py",
   "mimetype": "text/x-python",
   "name": "python",
   "nbconvert_exporter": "python",
   "pygments_lexer": "ipython3",
   "version": "3.8.5"
  }
 },
 "nbformat": 4,
 "nbformat_minor": 5
}