{
 "cells": [
  {
   "cell_type": "code",
   "execution_count": 88,
   "id": "613f4aa4",
   "metadata": {},
   "outputs": [],
   "source": [
    "import pandas\n",
    "from selenium import webdriver\n",
    "from webdriver_manager.chrome import ChromeDriverManager\n",
    "from selenium.webdriver.chrome.options import Options\n",
    "from selenium.common.exceptions import NoSuchElementException\n",
    "from selenium.webdriver.support.select import Select\n",
    "import time\n",
    "\n",
    "options = Options()\n",
    "options.headless = False\n",
    "# change to your driver path\n",
    "driver = webdriver.Chrome(options=options, executable_path=\"/Users/wangyueyu/Desktop/chromedriver\")\n",
    "\n",
    "from bs4 import BeautifulSoup"
   ]
  },
  {
   "cell_type": "code",
   "execution_count": 89,
   "id": "cb09b722",
   "metadata": {},
   "outputs": [],
   "source": [
    "url = \"https://wi.211counts.org/\"\n",
    "driver.get(url)\n",
    "#driver.page_source"
   ]
  },
  {
   "cell_type": "code",
   "execution_count": 90,
   "id": "cc14ecf5",
   "metadata": {},
   "outputs": [],
   "source": [
    "driver.find_element_by_id(\"forWeb\").click()\n",
    "time.sleep(0.2)\n",
    "driver.find_element_by_xpath('//input[@value=\"524\"]').click()\n",
    "time.sleep(0.2)\n",
    "driver.find_element_by_id(\"submitSearch\").click()\n",
    "\n",
    "# drpdown = b.find_element_by_tag_name('select')\n",
    "# print(drpdown)\n",
    "# # btn = b.find_element_by_class_name('regionTime uppercase')\n",
    "# drpdown.click()\n",
    "# btn.click()\n",
    "# time.sleep(0.2)"
   ]
  },
  {
   "cell_type": "code",
   "execution_count": 101,
   "id": "serial-petite",
   "metadata": {},
   "outputs": [],
   "source": [
    "# driver.find_element_by_class_name(\"county\").find_elements_by_xpath('li')[1].click()\n",
    "driver.find_element_by_id(\"mobileMenu\").find_elements_by_xpath('div')[1].click()\n"
   ]
  },
  {
   "cell_type": "code",
   "execution_count": 112,
   "id": "508f480c",
   "metadata": {},
   "outputs": [],
   "source": [
    "driver.find_elements_by_class_name(\"active-result.group-option\")[0].click()\n",
    "#do screenshots\n",
    "#do different find_element_by_class (read the documentation)\n",
    "#Step 1: have a screenshot of the page (after automating some clicks)"
   ]
  },
  {
   "cell_type": "code",
   "execution_count": 113,
   "id": "convenient-protocol",
   "metadata": {},
   "outputs": [],
   "source": [
    "driver.find_element_by_id(\"fromDate\").send_keys('Nov 1, 2019')"
   ]
  },
  {
   "cell_type": "code",
   "execution_count": 5,
   "id": "cbf297e4",
   "metadata": {},
   "outputs": [],
   "source": [
    "#navigate to the url, find element <ul class=\"chosen-results\", click the button, select the li class with text \"Custom Date\"\n",
    "#then select the dates\n"
   ]
  },
  {
   "cell_type": "code",
   "execution_count": 114,
   "id": "refined-flash",
   "metadata": {},
   "outputs": [],
   "source": [
    "driver.find_element_by_id(\"toDate\").send_keys('Dec 1, 2019')"
   ]
  },
  {
   "cell_type": "code",
   "execution_count": 115,
   "id": "405c9471",
   "metadata": {},
   "outputs": [],
   "source": [
    "driver.find_element_by_id(\"go\").click()"
   ]
  },
  {
   "cell_type": "code",
   "execution_count": 121,
   "id": "monetary-compensation",
   "metadata": {},
   "outputs": [],
   "source": [
    "driver.find_element_by_class_name(\"displayAs\").find_elements_by_xpath('label')[2].click()"
   ]
  },
  {
   "cell_type": "code",
   "execution_count": null,
   "id": "parallel-mineral",
   "metadata": {},
   "outputs": [],
   "source": []
  }
 ],
 "metadata": {
  "kernelspec": {
   "display_name": "Python 3",
   "language": "python",
   "name": "python3"
  },
  "language_info": {
   "codemirror_mode": {
    "name": "ipython",
    "version": 3
   },
   "file_extension": ".py",
   "mimetype": "text/x-python",
   "name": "python",
   "nbconvert_exporter": "python",
   "pygments_lexer": "ipython3",
   "version": "3.8.5"
  }
 },
 "nbformat": 4,
 "nbformat_minor": 5
}
