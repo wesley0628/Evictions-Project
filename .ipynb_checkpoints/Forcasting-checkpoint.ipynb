{
 "cells": [
  {
   "cell_type": "code",
   "execution_count": 1,
   "metadata": {
    "pycharm": {
     "name": "#%%\n"
    }
   },
   "outputs": [],
   "source": [
    "import copy\n",
    "import geopandas as gpd\n",
    "import pandas as pd\n",
    "import matplotlib.pyplot as plt\n",
    "import numpy as np\n",
    "from sklearn import datasets, linear_model\n",
    "from sklearn.model_selection import train_test_split\n",
    "from sklearn import svm\n"
   ]
  },
  {
   "cell_type": "markdown",
   "metadata": {
    "pycharm": {
     "name": "#%% md\n"
    }
   },
   "source": [
    "#### Useful formatting functions and datas"
   ]
  },
  {
   "cell_type": "code",
   "execution_count": 3,
   "metadata": {
    "pycharm": {
     "name": "#%%\n"
    }
   },
   "outputs": [],
   "source": [
    "def change_county(df):\n",
    "    return df[\"COUNTY\"] + \" County\"\n",
    "\n",
    "def change_date_format(df):\n",
    "    return df[\"DATE\"][:3] + \" \"+ df[\"DATE\"][7:11]\n",
    "\n",
    "months = ['null','Jan', 'Feb', 'Mar', 'Apr', 'May', 'Jun', 'Jul', 'Aug', 'Sep', 'Oct', 'Nov', 'Dec']\n",
    "months_full = ['null', 'January', 'February', 'March', 'April', 'May', 'June', 'July', 'August', 'September', 'October', 'November', 'December']\n",
    "months_by_year = ['Jan 2019', 'Feb 2019', 'Mar 2019', 'Apr 2019', 'May 2019', 'Jun 2019', 'Jul 2019', 'Aug 2019', 'Sep 2019', 'Oct 2019', 'Nov 2019', 'Dec 2019',\n",
    "                  'Jan 2020', 'Feb 2020', 'Mar 2020', 'Apr 2020', 'May 2020', 'Jun 2020', 'Jul 2020', 'Aug 2020', 'Sep 2020', 'Oct 2020', 'Nov 2020', 'Dec 2020',\n",
    "                  'Jan 2021', 'Feb 2021', 'Mar 2021', 'Apr 2021', 'May 2021', 'Jun 2021', 'Jul 2021', 'Aug 2021', 'Sep 2021', 'Oct 2021', 'Nov 2021', 'Dec 20121']\n"
   ]
  },
  {
   "cell_type": "markdown",
   "metadata": {
    "pycharm": {
     "name": "#%% md\n"
    }
   },
   "source": [
    "#### Reading and formatting call 211 call data"
   ]
  },
  {
   "cell_type": "code",
   "execution_count": 10,
   "metadata": {
    "pycharm": {
     "name": "#%%\n"
    }
   },
   "outputs": [
    {
     "data": {
      "text/plain": [
       "918491"
      ]
     },
     "execution_count": 10,
     "metadata": {},
     "output_type": "execute_result"
    }
   ],
   "source": [
    "call_counts = pd.read_csv(\"211_counts_v2.csv\")\n",
    "call_counts = call_counts.drop(\"Unnamed: 0\", axis=1, inplace=False)\n",
    "call_counts[\"DATE\"] = call_counts.apply(lambda r:change_date_format(r), axis = 1)\n",
    "call_counts[\"COUNTY\"] = call_counts.apply(lambda x:change_county(x), axis = 1)\n",
    "call_counts[\"Total for top requests\"].sum()"
   ]
  },
  {
   "cell_type": "markdown",
   "metadata": {
    "pycharm": {
     "name": "#%% md\n"
    }
   },
   "source": [
    "#### Reading and Formatting cases data"
   ]
  },
  {
   "cell_type": "code",
   "execution_count": 68,
   "metadata": {
    "pycharm": {
     "name": "#%%\n"
    }
   },
   "outputs": [
    {
     "data": {
      "text/html": [
       "<div>\n",
       "<style scoped>\n",
       "    .dataframe tbody tr th:only-of-type {\n",
       "        vertical-align: middle;\n",
       "    }\n",
       "\n",
       "    .dataframe tbody tr th {\n",
       "        vertical-align: top;\n",
       "    }\n",
       "\n",
       "    .dataframe thead th {\n",
       "        text-align: right;\n",
       "    }\n",
       "</style>\n",
       "<table border=\"1\" class=\"dataframe\">\n",
       "  <thead>\n",
       "    <tr style=\"text-align: right;\">\n",
       "      <th></th>\n",
       "      <th>COUNTY</th>\n",
       "      <th>Filled</th>\n",
       "      <th>Judgement</th>\n",
       "      <th>DATE</th>\n",
       "      <th>Population</th>\n",
       "    </tr>\n",
       "  </thead>\n",
       "  <tbody>\n",
       "    <tr>\n",
       "      <th>0</th>\n",
       "      <td>Adams County</td>\n",
       "      <td>2</td>\n",
       "      <td>1</td>\n",
       "      <td>Jan 2019</td>\n",
       "      <td>20094</td>\n",
       "    </tr>\n",
       "    <tr>\n",
       "      <th>1</th>\n",
       "      <td>Ashland County</td>\n",
       "      <td>0</td>\n",
       "      <td>0</td>\n",
       "      <td>Jan 2019</td>\n",
       "      <td>15617</td>\n",
       "    </tr>\n",
       "    <tr>\n",
       "      <th>2</th>\n",
       "      <td>Barron County</td>\n",
       "      <td>6</td>\n",
       "      <td>2</td>\n",
       "      <td>Jan 2019</td>\n",
       "      <td>45229</td>\n",
       "    </tr>\n",
       "    <tr>\n",
       "      <th>3</th>\n",
       "      <td>Bayfield County</td>\n",
       "      <td>1</td>\n",
       "      <td>0</td>\n",
       "      <td>Jan 2019</td>\n",
       "      <td>14993</td>\n",
       "    </tr>\n",
       "    <tr>\n",
       "      <th>4</th>\n",
       "      <td>Brown County</td>\n",
       "      <td>69</td>\n",
       "      <td>29</td>\n",
       "      <td>Jan 2019</td>\n",
       "      <td>261368</td>\n",
       "    </tr>\n",
       "  </tbody>\n",
       "</table>\n",
       "</div>"
      ],
      "text/plain": [
       "            COUNTY Filled Judgement      DATE Population\n",
       "0     Adams County      2         1  Jan 2019      20094\n",
       "1   Ashland County      0         0  Jan 2019      15617\n",
       "2    Barron County      6         2  Jan 2019      45229\n",
       "3  Bayfield County      1         0  Jan 2019      14993\n",
       "4     Brown County     69        29  Jan 2019     261368"
      ]
     },
     "execution_count": 68,
     "metadata": {},
     "output_type": "execute_result"
    }
   ],
   "source": [
    "years = [2019, 2020, 2021]\n",
    "case_data = pd.DataFrame()\n",
    "for year in years:\n",
    "    month_data = pd.read_excel(\"data/\"+str(year)+\".xlsx\", \"Sheet1\")\n",
    "    year_data = pd.read_excel(\"data/\"+str(year)+\".xlsx\", \"Sheet2\")\n",
    "    year_data = year_data[:72]\n",
    "    year_data = year_data[[\"County \", \"Population *\"]]\n",
    "    year_data = year_data.rename(columns = {\"County \": \"COUNTY\", \"Population *\": \"Population\"})\n",
    "    for i in range(12):\n",
    "        current_month = month_data[[\"Unnamed: 0\", months_full[i+1], \"Unnamed: \"+ str((i+1)*2)]]\n",
    "        current_month = current_month.rename(columns = {\"Unnamed: 0\": \"COUNTY\", months_full[i+1]: \"Filled\", \"Unnamed: \"+ str((i+1)*2): \"Judgement\"})\n",
    "        current_month = current_month[1:73]\n",
    "        current_month[\"COUNTY\"] = current_month.apply(lambda x:change_county(x), axis = 1)\n",
    "        current_month[\"DATE\"] = months[i+1] +\" \"+str(year)\n",
    "        current_month = current_month.merge(year_data, on = \"COUNTY\")\n",
    "        frame = [case_data, current_month]\n",
    "        case_data = pd.concat(frame)\n",
    "\n",
    "case_data.head()\n"
   ]
  },
  {
   "cell_type": "markdown",
   "metadata": {
    "pycharm": {
     "name": "#%% md\n"
    }
   },
   "source": [
    "## Statistic Plots"
   ]
  },
  {
   "cell_type": "markdown",
   "metadata": {
    "pycharm": {
     "name": "#%% md\n"
    }
   },
   "source": [
    "#### Line plot for total 211 calls from Aug 2019 to Oct 2021"
   ]
  },
  {
   "cell_type": "code",
   "execution_count": 69,
   "metadata": {
    "pycharm": {
     "name": "#%%\n"
    }
   },
   "outputs": [
    {
     "data": {
      "image/png": "[encoded data removed]",
      "text/plain": [
       "<Figure size 1152x576 with 1 Axes>"
      ]
     },
     "metadata": {
      "needs_background": "light"
     },
     "output_type": "display_data"
    }
   ],
   "source": [
    "total_calls = call_counts[[\"COUNTY\", \"DATE\",\"Total for top requests\"]].groupby('DATE', as_index=False).sum()\n",
    "total_calls['DATE'] = pd.Categorical(total_calls['DATE'], categories=months_by_year, ordered=True)\n",
    "total_calls.sort_values(by='DATE',ascending=True,inplace=True)\n",
    "# disregard July 2019, data wired\n",
    "total_calls = total_calls[1:]\n",
    "ax_total_calls = total_calls.plot.line(x=\"DATE\", y= \"Total for top requests\", legend = False, figsize = (16, 8))\n",
    "total_calls.plot.scatter(ax = ax_total_calls, x=\"DATE\", y= \"Total for top requests\", legend = False, figsize = (16, 8))\n",
    "ax_total_calls.set_title(\"Figure: total 211 calls from Aug 2019 to Oct 2021\")\n",
    "ax_total_calls.spines[\"top\"].set_visible(False)\n",
    "ax_total_calls.spines[\"right\"].set_visible(False)\n"
   ]
  },
  {
   "cell_type": "markdown",
   "metadata": {
    "pycharm": {
     "name": "#%% md\n"
    }
   },
   "source": [
    "#### Line plot for total 211 calls in Housing & Shelter category from Aug 2019 to Oct 2021"
   ]
  },
  {
   "cell_type": "code",
   "execution_count": 70,
   "metadata": {
    "pycharm": {
     "name": "#%%\n"
    }
   },
   "outputs": [
    {
     "data": {
      "image/png": "[encoded data removed]",
      "text/plain": [
       "<Figure size 1152x576 with 1 Axes>"
      ]
     },
     "metadata": {
      "needs_background": "light"
     },
     "output_type": "display_data"
    }
   ],
   "source": [
    "HS_calls = call_counts[[\"COUNTY\", \"DATE\",\"Housing & Shelter\"]].groupby('DATE', as_index=False).sum()\n",
    "HS_calls['DATE'] = pd.Categorical(HS_calls['DATE'], categories=months_by_year, ordered=True)\n",
    "HS_calls.sort_values(by='DATE',ascending=True,inplace=True)\n",
    "# disregard July 2019, data wired\n",
    "HS_calls = HS_calls[1:]\n",
    "ax_HS_calls = HS_calls.plot.line(x=\"DATE\", y= \"Housing & Shelter\", legend = False, figsize = (16, 8))\n",
    "HS_calls.plot.scatter(ax = ax_HS_calls, x=\"DATE\", y= \"Housing & Shelter\", legend = False, figsize = (16, 8))\n",
    "ax_HS_calls.set_title(\"Figure: Housing & Shelter 211 calls for every month from Aug 2019 to Oct 2021\")\n",
    "ax_HS_calls.spines[\"top\"].set_visible(False)\n",
    "ax_HS_calls.spines[\"right\"].set_visible(False)"
   ]
  },
  {
   "cell_type": "markdown",
   "metadata": {
    "pycharm": {
     "name": "#%% md\n"
    }
   },
   "source": [
    "## Forcasting"
   ]
  },
  {
   "cell_type": "code",
   "execution_count": 75,
   "metadata": {
    "pycharm": {
     "name": "#%%\n"
    }
   },
   "outputs": [
    {
     "data": {
      "text/html": [
       "<div>\n",
       "<style scoped>\n",
       "    .dataframe tbody tr th:only-of-type {\n",
       "        vertical-align: middle;\n",
       "    }\n",
       "\n",
       "    .dataframe tbody tr th {\n",
       "        vertical-align: top;\n",
       "    }\n",
       "\n",
       "    .dataframe thead th {\n",
       "        text-align: right;\n",
       "    }\n",
       "</style>\n",
       "<table border=\"1\" class=\"dataframe\">\n",
       "  <thead>\n",
       "    <tr style=\"text-align: right;\">\n",
       "      <th></th>\n",
       "      <th>COUNTY</th>\n",
       "      <th>DATE</th>\n",
       "      <th>Housing &amp; Shelter</th>\n",
       "      <th>Food</th>\n",
       "      <th>Utilities</th>\n",
       "      <th>Healthcare &amp; COVID-19</th>\n",
       "      <th>Mental Health &amp; Addictions</th>\n",
       "      <th>Employment &amp; Income</th>\n",
       "      <th>Clothing &amp; Household</th>\n",
       "      <th>Child Care &amp; Parenting</th>\n",
       "      <th>...</th>\n",
       "      <th>(Other) Community development &amp; enrichment</th>\n",
       "      <th>(Other) Volunteering &amp; donations</th>\n",
       "      <th>(Other) Support &amp; advocacy</th>\n",
       "      <th>(Other) Complaints</th>\n",
       "      <th>(Other) Special population services</th>\n",
       "      <th>(Other) Special populations</th>\n",
       "      <th>(Other) All other requests</th>\n",
       "      <th>Filled</th>\n",
       "      <th>Judgement</th>\n",
       "      <th>Population</th>\n",
       "    </tr>\n",
       "  </thead>\n",
       "  <tbody>\n",
       "    <tr>\n",
       "      <th>0</th>\n",
       "      <td>Dodge County</td>\n",
       "      <td>Aug 2019</td>\n",
       "      <td>21</td>\n",
       "      <td>6</td>\n",
       "      <td>6</td>\n",
       "      <td>4</td>\n",
       "      <td>6</td>\n",
       "      <td>1</td>\n",
       "      <td>2</td>\n",
       "      <td>0</td>\n",
       "      <td>...</td>\n",
       "      <td>0</td>\n",
       "      <td>0</td>\n",
       "      <td>0</td>\n",
       "      <td>0</td>\n",
       "      <td>0</td>\n",
       "      <td>0</td>\n",
       "      <td>0</td>\n",
       "      <td>23</td>\n",
       "      <td>12</td>\n",
       "      <td>87715</td>\n",
       "    </tr>\n",
       "    <tr>\n",
       "      <th>1</th>\n",
       "      <td>Columbia County</td>\n",
       "      <td>Nov 2019</td>\n",
       "      <td>2</td>\n",
       "      <td>5</td>\n",
       "      <td>2</td>\n",
       "      <td>5</td>\n",
       "      <td>3</td>\n",
       "      <td>0</td>\n",
       "      <td>0</td>\n",
       "      <td>0</td>\n",
       "      <td>...</td>\n",
       "      <td>0</td>\n",
       "      <td>0</td>\n",
       "      <td>1</td>\n",
       "      <td>0</td>\n",
       "      <td>0</td>\n",
       "      <td>0</td>\n",
       "      <td>3</td>\n",
       "      <td>14</td>\n",
       "      <td>1</td>\n",
       "      <td>57133</td>\n",
       "    </tr>\n",
       "    <tr>\n",
       "      <th>2</th>\n",
       "      <td>Bayfield County</td>\n",
       "      <td>Jun 2020</td>\n",
       "      <td>1</td>\n",
       "      <td>0</td>\n",
       "      <td>1</td>\n",
       "      <td>4</td>\n",
       "      <td>6</td>\n",
       "      <td>0</td>\n",
       "      <td>0</td>\n",
       "      <td>0</td>\n",
       "      <td>...</td>\n",
       "      <td>0</td>\n",
       "      <td>0</td>\n",
       "      <td>0</td>\n",
       "      <td>0</td>\n",
       "      <td>0</td>\n",
       "      <td>0</td>\n",
       "      <td>0</td>\n",
       "      <td>2</td>\n",
       "      <td>2</td>\n",
       "      <td>14993</td>\n",
       "    </tr>\n",
       "    <tr>\n",
       "      <th>3</th>\n",
       "      <td>Buffalo County</td>\n",
       "      <td>Mar 2021</td>\n",
       "      <td>7</td>\n",
       "      <td>0</td>\n",
       "      <td>1</td>\n",
       "      <td>12</td>\n",
       "      <td>3</td>\n",
       "      <td>1</td>\n",
       "      <td>0</td>\n",
       "      <td>0</td>\n",
       "      <td>...</td>\n",
       "      <td>0</td>\n",
       "      <td>0</td>\n",
       "      <td>0</td>\n",
       "      <td>0</td>\n",
       "      <td>0</td>\n",
       "      <td>0</td>\n",
       "      <td>0</td>\n",
       "      <td>0</td>\n",
       "      <td>1</td>\n",
       "      <td>13126</td>\n",
       "    </tr>\n",
       "    <tr>\n",
       "      <th>4</th>\n",
       "      <td>Waupaca County</td>\n",
       "      <td>Apr 2021</td>\n",
       "      <td>15</td>\n",
       "      <td>2</td>\n",
       "      <td>1</td>\n",
       "      <td>42</td>\n",
       "      <td>6</td>\n",
       "      <td>2</td>\n",
       "      <td>3</td>\n",
       "      <td>0</td>\n",
       "      <td>...</td>\n",
       "      <td>0</td>\n",
       "      <td>1</td>\n",
       "      <td>0</td>\n",
       "      <td>0</td>\n",
       "      <td>1</td>\n",
       "      <td>0</td>\n",
       "      <td>1</td>\n",
       "      <td>6</td>\n",
       "      <td>0</td>\n",
       "      <td>51245</td>\n",
       "    </tr>\n",
       "  </tbody>\n",
       "</table>\n",
       "<p>5 rows × 123 columns</p>\n",
       "</div>"
      ],
      "text/plain": [
       "            COUNTY      DATE  Housing & Shelter  Food  Utilities  \\\n",
       "0     Dodge County  Aug 2019                 21     6          6   \n",
       "1  Columbia County  Nov 2019                  2     5          2   \n",
       "2  Bayfield County  Jun 2020                  1     0          1   \n",
       "3   Buffalo County  Mar 2021                  7     0          1   \n",
       "4   Waupaca County  Apr 2021                 15     2          1   \n",
       "\n",
       "   Healthcare & COVID-19  Mental Health & Addictions  Employment & Income  \\\n",
       "0                      4                           6                    1   \n",
       "1                      5                           3                    0   \n",
       "2                      4                           6                    0   \n",
       "3                     12                           3                    1   \n",
       "4                     42                           6                    2   \n",
       "\n",
       "   Clothing & Household  Child Care & Parenting  ...  \\\n",
       "0                     2                       0  ...   \n",
       "1                     0                       0  ...   \n",
       "2                     0                       0  ...   \n",
       "3                     0                       0  ...   \n",
       "4                     3                       0  ...   \n",
       "\n",
       "   (Other) Community development & enrichment  \\\n",
       "0                                           0   \n",
       "1                                           0   \n",
       "2                                           0   \n",
       "3                                           0   \n",
       "4                                           0   \n",
       "\n",
       "   (Other) Volunteering & donations  (Other) Support & advocacy  \\\n",
       "0                                 0                           0   \n",
       "1                                 0                           1   \n",
       "2                                 0                           0   \n",
       "3                                 0                           0   \n",
       "4                                 1                           0   \n",
       "\n",
       "   (Other) Complaints  (Other) Special population services  \\\n",
       "0                   0                                    0   \n",
       "1                   0                                    0   \n",
       "2                   0                                    0   \n",
       "3                   0                                    0   \n",
       "4                   0                                    1   \n",
       "\n",
       "   (Other) Special populations  (Other) All other requests  Filled  Judgement  \\\n",
       "0                            0                           0      23         12   \n",
       "1                            0                           3      14          1   \n",
       "2                            0                           0       2          2   \n",
       "3                            0                           0       0          1   \n",
       "4                            0                           1       6          0   \n",
       "\n",
       "   Population  \n",
       "0       87715  \n",
       "1       57133  \n",
       "2       14993  \n",
       "3       13126  \n",
       "4       51245  \n",
       "\n",
       "[5 rows x 123 columns]"
      ]
     },
     "execution_count": 75,
     "metadata": {},
     "output_type": "execute_result"
    }
   ],
   "source": [
    "# Combine case data and 211 calls data\n",
    "# Because we do not have case data after June 2021, so drop 211 calls data after June 2021\n",
    "calls_and_cases = call_counts.merge(case_data, on=[\"COUNTY\",\"DATE\"])\n",
    "calls_and_cases = calls_and_cases.dropna()\n",
    "calls_and_cases.to_csv(\"calls_and_cases.csv\", index = False)\n",
    "calls_and_cases.head()"
   ]
  },
  {
   "cell_type": "markdown",
   "metadata": {
    "pycharm": {
     "name": "#%% md\n"
    }
   },
   "source": [
    "### Forcasting in month level (May be this is more suitable for predicting total fills in the whole Wisconsin in a month, but the dataset may be too small)"
   ]
  },
  {
   "cell_type": "code",
   "execution_count": 123,
   "metadata": {
    "pycharm": {
     "name": "#%%\n"
    }
   },
   "outputs": [],
   "source": [
    "tmp = pd.read_csv(\"calls_and_cases.csv\")\n",
    "calls_and_cases_month = tmp.groupby(\"DATE\", as_index=False).sum()\n",
    "\n",
    "# filter outlier\n",
    "outlier = calls_and_cases_month[(calls_and_cases_month.DATE == 'Jul 2019')].index\n",
    "calls_and_cases_month = calls_and_cases_month.drop(outlier)\n",
    "\n",
    "\n",
    "# select columns\n",
    "column_list = list(calls_and_cases.columns)\n",
    "all_sub = [n for n in column_list if '(' in n ]\n",
    "training_col = [[\"Population\"],\n",
    "                [\"Total for top requests\"],\n",
    "                [\"Population\", \"Total for top requests\"],\n",
    "                [\"Housing & Shelter\", \"Food\", \"Utilities\", \"Healthcare & COVID-19\",\n",
    "                 \"Mental Health & Addictions\", \"Employment & Income\", \"Clothing & Household\", \"Clothing & Household\",\n",
    "                 \"Child Care & Parenting\", \"Government & Legal\", \"Transportation Assistance\", \"Education\", \"Disaster\", \"Other\"],\n",
    "                [\"Housing & Shelter\", \"Food\", \"Utilities\", \"Healthcare & COVID-19\",\n",
    "                 \"Mental Health & Addictions\", \"Employment & Income\", \"Clothing & Household\", \"Clothing & Household\",\n",
    "                 \"Child Care & Parenting\", \"Government & Legal\", \"Transportation Assistance\", \"Education\", \"Disaster\", \"Other\", \"Population\"],\n",
    "                all_sub,\n",
    "                all_sub + [\"Population\"],\n",
    "                [\"Housing & Shelter\"],\n",
    "                [\"Housing & Shelter\", \"Population\"],\n",
    "                [\"(Housing & Shelter) Shelters\", \"(Housing & Shelter) Low-cost housing\",\n",
    "                 \"(Housing & Shelter) Home repair/ maintenance\", \"(Housing & Shelter) Rent assistance\",\n",
    "                 \"(Housing & Shelter) Mortgage assistance\", \"(Housing & Shelter) Landlord/ tenant issues\",\n",
    "                 \"(Housing & Shelter) Contacts\", \"(Housing & Shelter) Other housing & shelter\"],\n",
    "                [\"(Housing & Shelter) Shelters\", \"(Housing & Shelter) Low-cost housing\",\n",
    "                 \"(Housing & Shelter) Home repair/ maintenance\", \"(Housing & Shelter) Rent assistance\",\n",
    "                 \"(Housing & Shelter) Mortgage assistance\", \"(Housing & Shelter) Landlord/ tenant issues\",\n",
    "                 \"(Housing & Shelter) Contacts\", \"(Housing & Shelter) Other housing & shelter\", \"Population\"]\n",
    "                ]\n",
    "selected_col_name = [\"Population\",\n",
    "                     \"Total 211 Calls\",\n",
    "                     \"Total 211 Calls and Population\",\n",
    "                     \"All big categories\",\n",
    "                     \"All big categories and population\",\n",
    "                     \"All sub categories\",\n",
    "                     \"All sub categories and population\",\n",
    "                     \"Only Housing & Shelter Category\",\n",
    "                     \"Housing and population\",\n",
    "                     \"Sub categories in Housing & Shelter\",\n",
    "                     \"Both Sub housing and Population\"]\n",
    "y_col = [\"Filled\"]\n",
    "\n",
    "\n",
    "# import Models\n",
    "from sklearn.linear_model import LinearRegression\n",
    "from sklearn.neighbors import KNeighborsRegressor\n",
    "from sklearn.svm import SVR\n",
    "from sklearn.linear_model import Lasso\n",
    "from sklearn.linear_model import Ridge\n",
    "from sklearn.neural_network import MLPRegressor\n",
    "from sklearn.tree import DecisionTreeRegressor\n",
    "from sklearn.ensemble import RandomForestRegressor\n",
    "from sklearn.ensemble import GradientBoostingRegressor\n",
    "\n",
    "models=[LinearRegression(),KNeighborsRegressor(),SVR(),Ridge(),Lasso(),MLPRegressor(alpha=20),DecisionTreeRegressor(), RandomForestRegressor(),GradientBoostingRegressor()]\n",
    "models_str=['LinearRegression','KNNRegressor','SVR','Ridge','Lasso','MLPRegressor','DecisionTree','RandomForest','GradientBoost']\n",
    "\n"
   ]
  },
  {
   "cell_type": "code",
   "execution_count": 124,
   "metadata": {
    "pycharm": {
     "name": "#%%\n"
    }
   },
   "outputs": [
    {
     "name": "stderr",
     "output_type": "stream",
     "text": [
      "/Users/wes/opt/anaconda3/envs/CS_HW/lib/python3.8/site-packages/sklearn/linear_model/_coordinate_descent.py:647: ConvergenceWarning: Objective did not converge. You might want to increase the number of iterations, check the scale of the features or consider increasing regularisation. Duality gap: 2.346e+03, tolerance: 1.161e+03\n",
      "  model = cd_fast.enet_coordinate_descent(\n",
      "/Users/wes/opt/anaconda3/envs/CS_HW/lib/python3.8/site-packages/sklearn/neural_network/_multilayer_perceptron.py:692: ConvergenceWarning: Stochastic Optimizer: Maximum iterations (200) reached and the optimization hasn't converged yet.\n",
      "  warnings.warn(\n",
      "/Users/wes/opt/anaconda3/envs/CS_HW/lib/python3.8/site-packages/sklearn/linear_model/_coordinate_descent.py:647: ConvergenceWarning: Objective did not converge. You might want to increase the number of iterations, check the scale of the features or consider increasing regularisation. Duality gap: 2.346e+03, tolerance: 1.161e+03\n",
      "  model = cd_fast.enet_coordinate_descent(\n",
      "/Users/wes/opt/anaconda3/envs/CS_HW/lib/python3.8/site-packages/sklearn/neural_network/_multilayer_perceptron.py:692: ConvergenceWarning: Stochastic Optimizer: Maximum iterations (200) reached and the optimization hasn't converged yet.\n",
      "  warnings.warn(\n"
     ]
    },
    {
     "data": {
      "text/html": [
       "<div>\n",
       "<style scoped>\n",
       "    .dataframe tbody tr th:only-of-type {\n",
       "        vertical-align: middle;\n",
       "    }\n",
       "\n",
       "    .dataframe tbody tr th {\n",
       "        vertical-align: top;\n",
       "    }\n",
       "\n",
       "    .dataframe thead th {\n",
       "        text-align: right;\n",
       "    }\n",
       "</style>\n",
       "<table border=\"1\" class=\"dataframe\">\n",
       "  <thead>\n",
       "    <tr style=\"text-align: right;\">\n",
       "      <th></th>\n",
       "      <th>Selected Columns</th>\n",
       "      <th>Model Name</th>\n",
       "      <th>Score</th>\n",
       "    </tr>\n",
       "  </thead>\n",
       "  <tbody>\n",
       "    <tr>\n",
       "      <th>0</th>\n",
       "      <td>Population</td>\n",
       "      <td>LinearRegression</td>\n",
       "      <td>-0.115142</td>\n",
       "    </tr>\n",
       "    <tr>\n",
       "      <th>1</th>\n",
       "      <td>Population</td>\n",
       "      <td>KNNRegressor</td>\n",
       "      <td>-0.052711</td>\n",
       "    </tr>\n",
       "    <tr>\n",
       "      <th>2</th>\n",
       "      <td>Population</td>\n",
       "      <td>SVR</td>\n",
       "      <td>-0.729841</td>\n",
       "    </tr>\n",
       "    <tr>\n",
       "      <th>3</th>\n",
       "      <td>Population</td>\n",
       "      <td>Ridge</td>\n",
       "      <td>-0.115142</td>\n",
       "    </tr>\n",
       "    <tr>\n",
       "      <th>4</th>\n",
       "      <td>Population</td>\n",
       "      <td>Lasso</td>\n",
       "      <td>-0.115142</td>\n",
       "    </tr>\n",
       "    <tr>\n",
       "      <th>...</th>\n",
       "      <td>...</td>\n",
       "      <td>...</td>\n",
       "      <td>...</td>\n",
       "    </tr>\n",
       "    <tr>\n",
       "      <th>94</th>\n",
       "      <td>Both Sub housing and Population</td>\n",
       "      <td>Lasso</td>\n",
       "      <td>-0.291139</td>\n",
       "    </tr>\n",
       "    <tr>\n",
       "      <th>95</th>\n",
       "      <td>Both Sub housing and Population</td>\n",
       "      <td>MLPRegressor</td>\n",
       "      <td>-329.222670</td>\n",
       "    </tr>\n",
       "    <tr>\n",
       "      <th>96</th>\n",
       "      <td>Both Sub housing and Population</td>\n",
       "      <td>DecisionTree</td>\n",
       "      <td>-1.416147</td>\n",
       "    </tr>\n",
       "    <tr>\n",
       "      <th>97</th>\n",
       "      <td>Both Sub housing and Population</td>\n",
       "      <td>RandomForest</td>\n",
       "      <td>0.466066</td>\n",
       "    </tr>\n",
       "    <tr>\n",
       "      <th>98</th>\n",
       "      <td>Both Sub housing and Population</td>\n",
       "      <td>GradientBoost</td>\n",
       "      <td>-0.406446</td>\n",
       "    </tr>\n",
       "  </tbody>\n",
       "</table>\n",
       "<p>99 rows × 3 columns</p>\n",
       "</div>"
      ],
      "text/plain": [
       "                   Selected Columns        Model Name       Score\n",
       "0                        Population  LinearRegression   -0.115142\n",
       "1                        Population      KNNRegressor   -0.052711\n",
       "2                        Population               SVR   -0.729841\n",
       "3                        Population             Ridge   -0.115142\n",
       "4                        Population             Lasso   -0.115142\n",
       "..                              ...               ...         ...\n",
       "94  Both Sub housing and Population             Lasso   -0.291139\n",
       "95  Both Sub housing and Population      MLPRegressor -329.222670\n",
       "96  Both Sub housing and Population      DecisionTree   -1.416147\n",
       "97  Both Sub housing and Population      RandomForest    0.466066\n",
       "98  Both Sub housing and Population     GradientBoost   -0.406446\n",
       "\n",
       "[99 rows x 3 columns]"
      ]
     },
     "execution_count": 124,
     "metadata": {},
     "output_type": "execute_result"
    }
   ],
   "source": [
    "# training all models\n",
    "# for x_col in training_col:\n",
    "forcast_result = pd.DataFrame()\n",
    "index = 0\n",
    "for x_col, col_name in zip(training_col, selected_col_name):\n",
    "    x = calls_and_cases_month[x_col]\n",
    "    y = calls_and_cases_month[\"Filled\"]\n",
    "    x_dum=pd.get_dummies(x)\n",
    "    x_train,x_test,y_train,y_test = train_test_split(x_dum,y,test_size = 0.2,random_state = 1)\n",
    "    for name,model in zip(models_str,models):\n",
    "        cur_model = model\n",
    "        cur_model.fit(x_train, y_train)\n",
    "        y_pred = cur_model.predict(x_test)\n",
    "        score = cur_model.score(x_test, y_test)\n",
    "        current_dict = {\"Selected Columns\":col_name, \"Model Name\": name, \"Score\": score}\n",
    "        current_frame = pd.DataFrame(current_dict, index = [index])\n",
    "        index += 1\n",
    "        frames = [forcast_result, current_frame]\n",
    "        forcast_result = pd.concat(frames)\n",
    "\n",
    "forcast_result\n",
    "\n"
   ]
  },
  {
   "cell_type": "markdown",
   "metadata": {
    "pycharm": {
     "name": "#%% md\n"
    }
   },
   "source": [
    "## It looks like using MLPRegressor has the highest performance, using all sub categories"
   ]
  },
  {
   "cell_type": "markdown",
   "metadata": {
    "pycharm": {
     "name": "#%% md\n"
    }
   },
   "source": [
    "### Not format the data, just using the the 211 calls and fills for each county and each month (Maybe this model is better for predicting the eviction number for one county in a month)"
   ]
  },
  {
   "cell_type": "code",
   "execution_count": 126,
   "metadata": {
    "pycharm": {
     "name": "#%%\n"
    }
   },
   "outputs": [
    {
     "name": "stderr",
     "output_type": "stream",
     "text": [
      "/Users/wes/opt/anaconda3/envs/CS_HW/lib/python3.8/site-packages/sklearn/neural_network/_multilayer_perceptron.py:692: ConvergenceWarning: Stochastic Optimizer: Maximum iterations (200) reached and the optimization hasn't converged yet.\n",
      "  warnings.warn(\n",
      "/Users/wes/opt/anaconda3/envs/CS_HW/lib/python3.8/site-packages/sklearn/linear_model/_coordinate_descent.py:647: ConvergenceWarning: Objective did not converge. You might want to increase the number of iterations, check the scale of the features or consider increasing regularisation. Duality gap: 8.673e+05, tolerance: 1.186e+03\n",
      "  model = cd_fast.enet_coordinate_descent(\n",
      "/Users/wes/opt/anaconda3/envs/CS_HW/lib/python3.8/site-packages/sklearn/linear_model/_coordinate_descent.py:647: ConvergenceWarning: Objective did not converge. You might want to increase the number of iterations, check the scale of the features or consider increasing regularisation. Duality gap: 8.923e+05, tolerance: 1.186e+03\n",
      "  model = cd_fast.enet_coordinate_descent(\n",
      "/Users/wes/opt/anaconda3/envs/CS_HW/lib/python3.8/site-packages/sklearn/linear_model/_coordinate_descent.py:647: ConvergenceWarning: Objective did not converge. You might want to increase the number of iterations, check the scale of the features or consider increasing regularisation. Duality gap: 2.534e+05, tolerance: 1.186e+03\n",
      "  model = cd_fast.enet_coordinate_descent(\n",
      "/Users/wes/opt/anaconda3/envs/CS_HW/lib/python3.8/site-packages/sklearn/linear_model/_coordinate_descent.py:647: ConvergenceWarning: Objective did not converge. You might want to increase the number of iterations, check the scale of the features or consider increasing regularisation. Duality gap: 2.534e+05, tolerance: 1.186e+03\n",
      "  model = cd_fast.enet_coordinate_descent(\n",
      "/Users/wes/opt/anaconda3/envs/CS_HW/lib/python3.8/site-packages/sklearn/linear_model/_coordinate_descent.py:647: ConvergenceWarning: Objective did not converge. You might want to increase the number of iterations, check the scale of the features or consider increasing regularisation. Duality gap: 1.269e+06, tolerance: 1.186e+03\n",
      "  model = cd_fast.enet_coordinate_descent(\n",
      "/Users/wes/opt/anaconda3/envs/CS_HW/lib/python3.8/site-packages/sklearn/linear_model/_coordinate_descent.py:647: ConvergenceWarning: Objective did not converge. You might want to increase the number of iterations, check the scale of the features or consider increasing regularisation. Duality gap: 1.306e+06, tolerance: 1.186e+03\n",
      "  model = cd_fast.enet_coordinate_descent(\n"
     ]
    },
    {
     "data": {
      "text/html": [
       "<div>\n",
       "<style scoped>\n",
       "    .dataframe tbody tr th:only-of-type {\n",
       "        vertical-align: middle;\n",
       "    }\n",
       "\n",
       "    .dataframe tbody tr th {\n",
       "        vertical-align: top;\n",
       "    }\n",
       "\n",
       "    .dataframe thead th {\n",
       "        text-align: right;\n",
       "    }\n",
       "</style>\n",
       "<table border=\"1\" class=\"dataframe\">\n",
       "  <thead>\n",
       "    <tr style=\"text-align: right;\">\n",
       "      <th></th>\n",
       "      <th>Selected Columns</th>\n",
       "      <th>Model Name</th>\n",
       "      <th>Score</th>\n",
       "    </tr>\n",
       "  </thead>\n",
       "  <tbody>\n",
       "    <tr>\n",
       "      <th>0</th>\n",
       "      <td>Population</td>\n",
       "      <td>LinearRegression</td>\n",
       "      <td>0.870154</td>\n",
       "    </tr>\n",
       "    <tr>\n",
       "      <th>1</th>\n",
       "      <td>Population</td>\n",
       "      <td>KNNRegressor</td>\n",
       "      <td>0.797963</td>\n",
       "    </tr>\n",
       "    <tr>\n",
       "      <th>2</th>\n",
       "      <td>Population</td>\n",
       "      <td>SVR</td>\n",
       "      <td>0.003166</td>\n",
       "    </tr>\n",
       "    <tr>\n",
       "      <th>3</th>\n",
       "      <td>Population</td>\n",
       "      <td>Ridge</td>\n",
       "      <td>0.857156</td>\n",
       "    </tr>\n",
       "    <tr>\n",
       "      <th>4</th>\n",
       "      <td>Population</td>\n",
       "      <td>Lasso</td>\n",
       "      <td>0.824841</td>\n",
       "    </tr>\n",
       "    <tr>\n",
       "      <th>...</th>\n",
       "      <td>...</td>\n",
       "      <td>...</td>\n",
       "      <td>...</td>\n",
       "    </tr>\n",
       "    <tr>\n",
       "      <th>94</th>\n",
       "      <td>Both Sub housing and Population</td>\n",
       "      <td>Lasso</td>\n",
       "      <td>0.686797</td>\n",
       "    </tr>\n",
       "    <tr>\n",
       "      <th>95</th>\n",
       "      <td>Both Sub housing and Population</td>\n",
       "      <td>MLPRegressor</td>\n",
       "      <td>0.602372</td>\n",
       "    </tr>\n",
       "    <tr>\n",
       "      <th>96</th>\n",
       "      <td>Both Sub housing and Population</td>\n",
       "      <td>DecisionTree</td>\n",
       "      <td>0.792283</td>\n",
       "    </tr>\n",
       "    <tr>\n",
       "      <th>97</th>\n",
       "      <td>Both Sub housing and Population</td>\n",
       "      <td>RandomForest</td>\n",
       "      <td>0.859011</td>\n",
       "    </tr>\n",
       "    <tr>\n",
       "      <th>98</th>\n",
       "      <td>Both Sub housing and Population</td>\n",
       "      <td>GradientBoost</td>\n",
       "      <td>0.802722</td>\n",
       "    </tr>\n",
       "  </tbody>\n",
       "</table>\n",
       "<p>99 rows × 3 columns</p>\n",
       "</div>"
      ],
      "text/plain": [
       "                   Selected Columns        Model Name     Score\n",
       "0                        Population  LinearRegression  0.870154\n",
       "1                        Population      KNNRegressor  0.797963\n",
       "2                        Population               SVR  0.003166\n",
       "3                        Population             Ridge  0.857156\n",
       "4                        Population             Lasso  0.824841\n",
       "..                              ...               ...       ...\n",
       "94  Both Sub housing and Population             Lasso  0.686797\n",
       "95  Both Sub housing and Population      MLPRegressor  0.602372\n",
       "96  Both Sub housing and Population      DecisionTree  0.792283\n",
       "97  Both Sub housing and Population      RandomForest  0.859011\n",
       "98  Both Sub housing and Population     GradientBoost  0.802722\n",
       "\n",
       "[99 rows x 3 columns]"
      ]
     },
     "execution_count": 126,
     "metadata": {},
     "output_type": "execute_result"
    }
   ],
   "source": [
    "forcast_result_raw = pd.DataFrame()\n",
    "index = 0\n",
    "for x_col, col_name in zip(training_col, selected_col_name):\n",
    "    x = calls_and_cases[x_col]\n",
    "    y = calls_and_cases[\"Filled\"]\n",
    "    x_dum=pd.get_dummies(x)\n",
    "    x_train,x_test,y_train,y_test = train_test_split(x_dum,y,test_size = 0.3,random_state = 1)\n",
    "    for name,model in zip(models_str,models):\n",
    "        cur_model = model\n",
    "        cur_model.fit(x_train, y_train)\n",
    "        y_pred = cur_model.predict(x_test)\n",
    "        score = cur_model.score(x_test, y_test)\n",
    "        current_dict = {\"Selected Columns\":col_name, \"Model Name\": name, \"Score\": score}\n",
    "        current_frame = pd.DataFrame(current_dict, index = [index])\n",
    "        index += 1\n",
    "        frames = [forcast_result_raw, current_frame]\n",
    "        forcast_result_raw = pd.concat(frames)\n",
    "\n",
    "forcast_result_raw"
   ]
  },
  {
   "cell_type": "markdown",
   "metadata": {
    "pycharm": {
     "name": "#%% md\n"
    }
   },
   "source": [
    "## It looks like using KNNRegressor has the highest performance, using all sub categories"
   ]
  },
  {
   "cell_type": "code",
   "execution_count": null,
   "metadata": {
    "pycharm": {
     "name": "#%%\n"
    }
   },
   "outputs": [],
   "source": []
  }
 ],
 "metadata": {
  "kernelspec": {
   "display_name": "Python 3",
   "language": "python",
   "name": "python3"
  },
  "language_info": {
   "codemirror_mode": {
    "name": "ipython",
    "version": 3
   },
   "file_extension": ".py",
   "mimetype": "text/x-python",
   "name": "python",
   "nbconvert_exporter": "python",
   "pygments_lexer": "ipython3",
   "version": "3.8.5"
  }
 },
 "nbformat": 4,
 "nbformat_minor": 1
}
