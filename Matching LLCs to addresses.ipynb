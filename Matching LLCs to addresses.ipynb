{
 "cells": [
  {
   "cell_type": "code",
   "execution_count": 27,
   "id": "12c24602",
   "metadata": {},
   "outputs": [],
   "source": [
    "import openpyxl\n",
    "import pandas as pd\n",
    "import re\n",
    "\n",
    "from selenium import webdriver\n",
    "from selenium.webdriver.chrome.options import Options\n",
    "from selenium.common.exceptions import NoSuchElementException\n",
    "import time\n",
    "\n",
    "options = Options()\n",
    "options.headless = True\n",
    "b = webdriver.Chrome(options=options, executable_path=\"chromium.chromedriver\")\n",
    "\n",
    "from bs4 import BeautifulSoup"
   ]
  },
  {
   "cell_type": "code",
   "execution_count": 2,
   "id": "905e0959",
   "metadata": {},
   "outputs": [
    {
     "data": {
      "text/html": [
       "<div>\n",
       "<style scoped>\n",
       "    .dataframe tbody tr th:only-of-type {\n",
       "        vertical-align: middle;\n",
       "    }\n",
       "\n",
       "    .dataframe tbody tr th {\n",
       "        vertical-align: top;\n",
       "    }\n",
       "\n",
       "    .dataframe thead th {\n",
       "        text-align: right;\n",
       "    }\n",
       "</style>\n",
       "<table border=\"1\" class=\"dataframe\">\n",
       "  <thead>\n",
       "    <tr style=\"text-align: right;\">\n",
       "      <th></th>\n",
       "      <th>Entity Type</th>\n",
       "      <th>EntityID</th>\n",
       "      <th>EntityName</th>\n",
       "      <th>Inc/OrgDate</th>\n",
       "      <th>EntityStatus</th>\n",
       "      <th>StatusDate</th>\n",
       "      <th>RegAgentofficeCity</th>\n",
       "    </tr>\n",
       "  </thead>\n",
       "  <tbody>\n",
       "    <tr>\n",
       "      <th>0</th>\n",
       "      <td>2</td>\n",
       "      <td>N051411</td>\n",
       "      <td>#1 A LIFESAFER DISTRIBUTION, INC.</td>\n",
       "      <td>2019-11-13</td>\n",
       "      <td>INC</td>\n",
       "      <td>2019-11-13</td>\n",
       "      <td>MADISON</td>\n",
       "    </tr>\n",
       "    <tr>\n",
       "      <th>1</th>\n",
       "      <td>1</td>\n",
       "      <td>N024571</td>\n",
       "      <td>#1 A LIFESAFER OF WISCONSIN, INC.</td>\n",
       "      <td>1995-11-28</td>\n",
       "      <td>IGS</td>\n",
       "      <td>2019-10-14</td>\n",
       "      <td>MADISON</td>\n",
       "    </tr>\n",
       "    <tr>\n",
       "      <th>2</th>\n",
       "      <td>12</td>\n",
       "      <td>N042402</td>\n",
       "      <td>#BEMADISON LLC</td>\n",
       "      <td>2013-10-16</td>\n",
       "      <td>ADS</td>\n",
       "      <td>2018-04-24</td>\n",
       "      <td>MADISON</td>\n",
       "    </tr>\n",
       "    <tr>\n",
       "      <th>3</th>\n",
       "      <td>12</td>\n",
       "      <td>N047607</td>\n",
       "      <td>#DOBETTER LLC</td>\n",
       "      <td>2017-08-23</td>\n",
       "      <td>DLQ</td>\n",
       "      <td>2019-07-01</td>\n",
       "      <td>MADISON</td>\n",
       "    </tr>\n",
       "    <tr>\n",
       "      <th>4</th>\n",
       "      <td>6</td>\n",
       "      <td>E047252</td>\n",
       "      <td>(\"EVERY WOMAN NEEDS A MARGARET\") - EWNAM, INC.</td>\n",
       "      <td>2015-06-04</td>\n",
       "      <td>ADS</td>\n",
       "      <td>2019-06-10</td>\n",
       "      <td>MADISON</td>\n",
       "    </tr>\n",
       "  </tbody>\n",
       "</table>\n",
       "</div>"
      ],
      "text/plain": [
       "   Entity Type EntityID                                      EntityName  \\\n",
       "0            2  N051411               #1 A LIFESAFER DISTRIBUTION, INC.   \n",
       "1            1  N024571               #1 A LIFESAFER OF WISCONSIN, INC.   \n",
       "2           12  N042402                                  #BEMADISON LLC   \n",
       "3           12  N047607                                   #DOBETTER LLC   \n",
       "4            6  E047252  (\"EVERY WOMAN NEEDS A MARGARET\") - EWNAM, INC.   \n",
       "\n",
       "  Inc/OrgDate EntityStatus StatusDate RegAgentofficeCity  \n",
       "0  2019-11-13          INC 2019-11-13            MADISON  \n",
       "1  1995-11-28          IGS 2019-10-14            MADISON  \n",
       "2  2013-10-16          ADS 2018-04-24            MADISON  \n",
       "3  2017-08-23          DLQ 2019-07-01            MADISON  \n",
       "4  2015-06-04          ADS 2019-06-10            MADISON  "
      ]
     },
     "execution_count": 2,
     "metadata": {},
     "output_type": "execute_result"
    }
   ],
   "source": [
    "df = pd.read_excel(\"SampleMadisonRegistrations.xlsx\")\n",
    "df[:5]"
   ]
  },
  {
   "cell_type": "code",
   "execution_count": 3,
   "id": "5f5df25b",
   "metadata": {},
   "outputs": [],
   "source": [
    "#df[\"EntityName\"].head()"
   ]
  },
  {
   "cell_type": "code",
   "execution_count": 4,
   "id": "de5e87e2",
   "metadata": {},
   "outputs": [],
   "source": [
    "#Tyler's suggestion: search for madison street yardwaste to find keywords signifying street names\n",
    "#split the strings, find non-numbers and words (delete them -- replace them with space) \n",
    "#then ask does it contain a number or the keyword in the address list"
   ]
  },
  {
   "cell_type": "markdown",
   "id": "01174acf",
   "metadata": {},
   "source": [
    "## Extracting street signifiers from https://www.cityofmadison.com/streets/yardWaste/leaf/"
   ]
  },
  {
   "cell_type": "code",
   "execution_count": 5,
   "id": "f8f55c65",
   "metadata": {},
   "outputs": [
    {
     "data": {
      "text/plain": [
       "<selenium.webdriver.remote.webelement.WebElement (session=\"835b4652b25ce766ba2cda17cfdce780\", element=\"a4dd987a-95e5-4a37-ae3d-33c24f563b7a\")>"
      ]
     },
     "execution_count": 5,
     "metadata": {},
     "output_type": "execute_result"
    }
   ],
   "source": [
    "url = \"https://www.cityofmadison.com/streets/yardWaste/leaf/\"\n",
    "b.get(url)\n",
    "b.find_element_by_id(\"StType\") #returns a WebElement object"
   ]
  },
  {
   "cell_type": "code",
   "execution_count": 6,
   "id": "d0307957",
   "metadata": {},
   "outputs": [
    {
     "name": "stdout",
     "output_type": "stream",
     "text": [
      "<html lang=\"en\"><!-- InstanceBegin template=\"/Templates/streets960.dwt\" codeOutsideHTMLIsLocked=\"fal\n"
     ]
    }
   ],
   "source": [
    "#get the html returned by Selenium\n",
    "print(b.page_source[:100]) "
   ]
  },
  {
   "cell_type": "code",
   "execution_count": 7,
   "id": "a79112c1",
   "metadata": {},
   "outputs": [
    {
     "data": {
      "text/plain": [
       "bs4.element.Tag"
      ]
     },
     "execution_count": 7,
     "metadata": {},
     "output_type": "execute_result"
    }
   ],
   "source": [
    "#extract select element from the html using BeautifulSoup\n",
    "page = BeautifulSoup(b.page_source, \"html.parser\")\n",
    "street_name_options = page.find_all(\"select\")\n",
    "assert len(street_name_options) == 1\n",
    "type(street_name_options[0]) #street_name_options is now a list with one bs4 element"
   ]
  },
  {
   "cell_type": "code",
   "execution_count": 8,
   "id": "ff8c4030",
   "metadata": {},
   "outputs": [
    {
     "data": {
      "text/plain": [
       "[<select id=\"StType\" name=\"StType\">\n",
       " <option value=\" \">\n",
       " </option><option value=\"Aly\">Aly \n",
       " \t\t\t</option><option value=\"Ave\">Ave \n",
       " \t\t\t</option><option value=\"Blvd\">Blvd \n",
       " \t\t\t</option><option value=\"Bnd\">Bnd \n",
       " \t\t\t</option><option value=\"Cir\">Cir \n",
       " \t\t\t</option><option value=\"Cres\">Cres \n",
       " \t\t\t</option><option value=\"Ct\">Ct \n",
       " \t\t\t</option><option value=\"Dr\">Dr \n",
       " \t\t\t</option><option value=\"Gln\">Gln \n",
       " \t\t\t</option><option value=\"Grn\">Grn \n",
       " \t\t\t</option><option value=\"Hts\">Hts \n",
       " \t\t\t</option><option value=\"Hwy\">Hwy \n",
       " \t\t\t</option><option value=\"Ln\">Ln \n",
       " \t\t\t</option><option value=\"Loop\">Loop \n",
       " \t\t\t</option><option value=\"Mall\">Mall \n",
       " \t\t\t</option><option value=\"Pass\">Pass \n",
       " \t\t\t</option><option value=\"Path\">Path \n",
       " \t\t\t</option><option value=\"Pkwy\">Pkwy \n",
       " \t\t\t</option><option value=\"Pl\">Pl \n",
       " \t\t\t</option><option value=\"Plz\">Plz \n",
       " \t\t\t</option><option value=\"Ramp\">Ramp \n",
       " \t\t\t</option><option value=\"Rd\">Rd \n",
       " \t\t\t</option><option value=\"Rdg\">Rdg \n",
       " \t\t\t</option><option value=\"Row\">Row \n",
       " \t\t\t</option><option value=\"RR\">RR \n",
       " \t\t\t</option><option value=\"Run\">Run \n",
       " \t\t\t</option><option value=\"Spur\">Spur \n",
       " \t\t\t</option><option value=\"Sq\">Sq \n",
       " \t\t\t</option><option value=\"St\">St \n",
       " \t\t\t</option><option value=\"Ter\">Ter \n",
       " \t\t\t</option><option value=\"Trce\">Trce \n",
       " \t\t\t</option><option value=\"Trl\">Trl \n",
       " \t\t\t</option><option value=\"Vw\">Vw \n",
       " \t\t\t</option><option value=\"Walk\">Walk \n",
       " \t\t\t</option><option value=\"Way\">Way \n",
       " \t\t\t</option><option value=\"Xing\">Xing \n",
       " \t</option></select>]"
      ]
     },
     "execution_count": 8,
     "metadata": {},
     "output_type": "execute_result"
    }
   ],
   "source": [
    "street_name_options"
   ]
  },
  {
   "cell_type": "code",
   "execution_count": 21,
   "id": "f240b838",
   "metadata": {},
   "outputs": [],
   "source": [
    "street_signifiers = []\n",
    "for line in street_name_options[0]:\n",
    "    street_signifiers.append(line.get_text().strip())\n",
    "#print(len(street_signifiers))\n",
    "street_signifiers\n",
    "\n",
    "street_signifiers_filtered = list(filter(None, street_signifiers)) #a list of names without None values"
   ]
  },
  {
   "cell_type": "code",
   "execution_count": 20,
   "id": "65a7b304",
   "metadata": {},
   "outputs": [
    {
     "data": {
      "text/plain": [
       "['ALY',\n",
       " 'AVE',\n",
       " 'BLVD',\n",
       " 'BND',\n",
       " 'CIR',\n",
       " 'CRES',\n",
       " 'CT',\n",
       " 'DR',\n",
       " 'GLN',\n",
       " 'GRN',\n",
       " 'HTS',\n",
       " 'HWY',\n",
       " 'LN',\n",
       " 'LOOP',\n",
       " 'MALL',\n",
       " 'PASS',\n",
       " 'PATH',\n",
       " 'PKWY',\n",
       " 'PL',\n",
       " 'PLZ',\n",
       " 'RAMP',\n",
       " 'RD',\n",
       " 'RDG',\n",
       " 'ROW',\n",
       " 'RR',\n",
       " 'RUN',\n",
       " 'SPUR',\n",
       " 'SQ',\n",
       " 'ST',\n",
       " 'TER',\n",
       " 'TRCE',\n",
       " 'TRL',\n",
       " 'VW',\n",
       " 'WALK',\n",
       " 'WAY',\n",
       " 'XING']"
      ]
     },
     "execution_count": 20,
     "metadata": {},
     "output_type": "execute_result"
    }
   ],
   "source": [
    "street_signifiers_cap = []\n",
    "for item in street_signifiers_filtered:\n",
    "    street_signifiers_cap.append(item.upper())\n",
    "street_signifiers_cap"
   ]
  },
  {
   "cell_type": "markdown",
   "id": "7b59c7f1",
   "metadata": {},
   "source": [
    "## Matching street signifiers to addresses in SampleMadisonRegistrations.xlsx"
   ]
  },
  {
   "cell_type": "code",
   "execution_count": 11,
   "id": "9a764a1a",
   "metadata": {},
   "outputs": [
    {
     "data": {
      "text/html": [
       "<div>\n",
       "<style scoped>\n",
       "    .dataframe tbody tr th:only-of-type {\n",
       "        vertical-align: middle;\n",
       "    }\n",
       "\n",
       "    .dataframe tbody tr th {\n",
       "        vertical-align: top;\n",
       "    }\n",
       "\n",
       "    .dataframe thead th {\n",
       "        text-align: right;\n",
       "    }\n",
       "</style>\n",
       "<table border=\"1\" class=\"dataframe\">\n",
       "  <thead>\n",
       "    <tr style=\"text-align: right;\">\n",
       "      <th></th>\n",
       "      <th>Entity Type</th>\n",
       "      <th>EntityID</th>\n",
       "      <th>EntityName</th>\n",
       "      <th>Inc/OrgDate</th>\n",
       "      <th>EntityStatus</th>\n",
       "      <th>StatusDate</th>\n",
       "      <th>RegAgentofficeCity</th>\n",
       "    </tr>\n",
       "  </thead>\n",
       "  <tbody>\n",
       "    <tr>\n",
       "      <th>0</th>\n",
       "      <td>2</td>\n",
       "      <td>N051411</td>\n",
       "      <td>#1 A LIFESAFER DISTRIBUTION, INC.</td>\n",
       "      <td>2019-11-13</td>\n",
       "      <td>INC</td>\n",
       "      <td>2019-11-13</td>\n",
       "      <td>MADISON</td>\n",
       "    </tr>\n",
       "    <tr>\n",
       "      <th>1</th>\n",
       "      <td>1</td>\n",
       "      <td>N024571</td>\n",
       "      <td>#1 A LIFESAFER OF WISCONSIN, INC.</td>\n",
       "      <td>1995-11-28</td>\n",
       "      <td>IGS</td>\n",
       "      <td>2019-10-14</td>\n",
       "      <td>MADISON</td>\n",
       "    </tr>\n",
       "    <tr>\n",
       "      <th>2</th>\n",
       "      <td>12</td>\n",
       "      <td>N042402</td>\n",
       "      <td>#BEMADISON LLC</td>\n",
       "      <td>2013-10-16</td>\n",
       "      <td>ADS</td>\n",
       "      <td>2018-04-24</td>\n",
       "      <td>MADISON</td>\n",
       "    </tr>\n",
       "    <tr>\n",
       "      <th>3</th>\n",
       "      <td>12</td>\n",
       "      <td>N047607</td>\n",
       "      <td>#DOBETTER LLC</td>\n",
       "      <td>2017-08-23</td>\n",
       "      <td>DLQ</td>\n",
       "      <td>2019-07-01</td>\n",
       "      <td>MADISON</td>\n",
       "    </tr>\n",
       "    <tr>\n",
       "      <th>4</th>\n",
       "      <td>6</td>\n",
       "      <td>E047252</td>\n",
       "      <td>(\"EVERY WOMAN NEEDS A MARGARET\") - EWNAM, INC.</td>\n",
       "      <td>2015-06-04</td>\n",
       "      <td>ADS</td>\n",
       "      <td>2019-06-10</td>\n",
       "      <td>MADISON</td>\n",
       "    </tr>\n",
       "  </tbody>\n",
       "</table>\n",
       "</div>"
      ],
      "text/plain": [
       "   Entity Type EntityID                                      EntityName  \\\n",
       "0            2  N051411               #1 A LIFESAFER DISTRIBUTION, INC.   \n",
       "1            1  N024571               #1 A LIFESAFER OF WISCONSIN, INC.   \n",
       "2           12  N042402                                  #BEMADISON LLC   \n",
       "3           12  N047607                                   #DOBETTER LLC   \n",
       "4            6  E047252  (\"EVERY WOMAN NEEDS A MARGARET\") - EWNAM, INC.   \n",
       "\n",
       "  Inc/OrgDate EntityStatus StatusDate RegAgentofficeCity  \n",
       "0  2019-11-13          INC 2019-11-13            MADISON  \n",
       "1  1995-11-28          IGS 2019-10-14            MADISON  \n",
       "2  2013-10-16          ADS 2018-04-24            MADISON  \n",
       "3  2017-08-23          DLQ 2019-07-01            MADISON  \n",
       "4  2015-06-04          ADS 2019-06-10            MADISON  "
      ]
     },
     "execution_count": 11,
     "metadata": {},
     "output_type": "execute_result"
    }
   ],
   "source": [
    "df = pd.read_excel(\"SampleMadisonRegistrations.xlsx\")\n",
    "df[:5]"
   ]
  },
  {
   "cell_type": "code",
   "execution_count": 28,
   "id": "6fc2970a",
   "metadata": {},
   "outputs": [
    {
     "data": {
      "text/plain": [
       "2911"
      ]
     },
     "execution_count": 28,
     "metadata": {},
     "output_type": "execute_result"
    }
   ],
   "source": [
    "num_of_LLCs = len(df[\"EntityName\"])\n",
    "num_of_LLCs"
   ]
  },
  {
   "cell_type": "code",
   "execution_count": 31,
   "id": "c7775da1",
   "metadata": {},
   "outputs": [
    {
     "name": "stdout",
     "output_type": "stream",
     "text": [
      "100 WISCONSIN AVENUE CONDOMINIUM OWNERS ASSOCIATION, INC.\n",
      "1000 W. NORTHLAND AVE LLC\n",
      "1008 WAUGOO AVENUE, LLC\n",
      "1016 COLAN BLVD, LLC\n",
      "10 - 12 BAHR CIRCLE LLC\n",
      "102 PRAIRIE HEIGHTS LLC\n",
      "1010 WISCONSIN DELLS PARKWAY SOUTH LAKE DELTON, WI LLC\n"
     ]
    }
   ],
   "source": [
    "#I want to check if any of the street_signifiers_cap is in EntityName\n",
    "for signifier in street_signifiers_cap: \n",
    "    if len(signifier) > 2: \n",
    "        for name in df[\"EntityName\"][10:50]:\n",
    "            if signifier in name:   \n",
    "                print(name)   "
   ]
  },
  {
   "cell_type": "code",
   "execution_count": 32,
   "id": "112fdcd1",
   "metadata": {},
   "outputs": [
    {
     "name": "stdout",
     "output_type": "stream",
     "text": [
      "100 WISCONSIN AVENUE CONDOMINIUM OWNERS ASSOCIATION, INC.\n",
      "1000 W. NORTHLAND AVE LLC\n",
      "1008 WAUGOO AVENUE, LLC\n",
      "1016 COLAN BLVD, LLC\n",
      "10 - 12 BAHR CIRCLE LLC\n",
      "1014 S. LAKE SHORE DRIVE LLC\n",
      "1040 QUINN DRIVE, LLC\n",
      "102 PRAIRIE HEIGHTS LLC\n",
      "10 NEWTONS WOMEN'S WELLNESS FOUNDATION, INC.\n",
      "100% PLATINUM CONSULTING LLC\n",
      "100 SOUTH FIRST, LLC\n",
      "1000 EAST STREET, LLC\n",
      "100STATE INC.\n",
      "101 OSTHOFF, LLC\n",
      "1010 ANN STREET LLC\n",
      "1011 NORTH WISCONSIN STREET OWNER LLC\n",
      "1021-23 N. 24TH ST. LLC\n",
      "1024 MAIN STREET, LLC\n",
      "1028 ERIN ST LLC\n",
      "103 LIBERTY STREET LLC\n",
      "103 S RIDGE STREET LLC\n",
      "105 N MAIN STREET LLC\n",
      "1010 WISCONSIN DELLS PARKWAY SOUTH LAKE DELTON, WI LLC\n"
     ]
    }
   ],
   "source": [
    "for signifier in street_signifiers_cap: \n",
    "    for name in df[\"EntityName\"][10:50]:\n",
    "        if signifier in name:   #need to modify this so that PL, ST acronyms are not counted\n",
    "            print(name) "
   ]
  },
  {
   "cell_type": "code",
   "execution_count": null,
   "id": "3bfad6f9",
   "metadata": {},
   "outputs": [],
   "source": []
  },
  {
   "cell_type": "markdown",
   "id": "b85938b5",
   "metadata": {},
   "source": [
    "## See which LLCs match to LLCs that opened an eviction case in June 2021 (ccapoutputfile_)"
   ]
  },
  {
   "cell_type": "code",
   "execution_count": 16,
   "id": "4a5f1047",
   "metadata": {},
   "outputs": [],
   "source": [
    "#split the strings, find non-numbers and words (delete them -- replace them with space) \n",
    "#then ask does it contain a number or the keyword in the address list"
   ]
  },
  {
   "cell_type": "code",
   "execution_count": null,
   "id": "8fe10b14",
   "metadata": {},
   "outputs": [],
   "source": []
  },
  {
   "cell_type": "code",
   "execution_count": null,
   "id": "25898045",
   "metadata": {},
   "outputs": [],
   "source": []
  },
  {
   "cell_type": "code",
   "execution_count": null,
   "id": "8bc37bbe",
   "metadata": {},
   "outputs": [],
   "source": []
  },
  {
   "cell_type": "code",
   "execution_count": null,
   "id": "2dc88676",
   "metadata": {},
   "outputs": [],
   "source": []
  },
  {
   "cell_type": "code",
   "execution_count": null,
   "id": "5d9f224a",
   "metadata": {},
   "outputs": [],
   "source": []
  },
  {
   "cell_type": "code",
   "execution_count": null,
   "id": "55f495ea",
   "metadata": {},
   "outputs": [],
   "source": []
  },
  {
   "cell_type": "code",
   "execution_count": 17,
   "id": "f6537698",
   "metadata": {},
   "outputs": [],
   "source": [
    "#Identify key words that signify address\n",
    "address_signifiers = [\"NORTH\", \"SOUTH\", \"EAST\", \"WEST\", \"N\", \"N.\", \"S\", \"S.\", \"E\", \"E.\", \"W\", \"W.\", \"STREET\", \"ST\", \"AVE\", \"DRIVE\", \"RD\", \"PLACE\", \"PL\", \"LANE\", \"COURT\", \"CT\", \"WAY\", \"HIGHWAY\"]"
   ]
  },
  {
   "cell_type": "code",
   "execution_count": 18,
   "id": "a8201ae8",
   "metadata": {},
   "outputs": [],
   "source": [
    "#question: \n",
    "#for addresses like 1236 Willy LLC, it could correspond to an address even though it doesn't contain the street keywords\n",
    "#or like 134 Fair Oaks, LLC (it sounds like a street address)"
   ]
  },
  {
   "cell_type": "code",
   "execution_count": null,
   "id": "774b2d77",
   "metadata": {},
   "outputs": [],
   "source": []
  }
 ],
 "metadata": {
  "kernelspec": {
   "display_name": "Python 3 (ipykernel)",
   "language": "python",
   "name": "python3"
  },
  "language_info": {
   "codemirror_mode": {
    "name": "ipython",
    "version": 3
   },
   "file_extension": ".py",
   "mimetype": "text/x-python",
   "name": "python",
   "nbconvert_exporter": "python",
   "pygments_lexer": "ipython3",
   "version": "3.8.10"
  }
 },
 "nbformat": 4,
 "nbformat_minor": 5
}
